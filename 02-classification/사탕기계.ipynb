{
 "cells": [
  {
   "cell_type": "markdown",
   "id": "866db676",
   "metadata": {},
   "source": [
    "## 나이브 베이즈 분류기\n",
    "\n",
    "#### [⏩ 영상 바로가기](#video-00:00:00-00:31:15)\n",
    "\n",
    "나이브 베이즈 분류기를 직접 구현해 보겠습니다. 두 개의 사탕 기계를 살펴보겠습니다.\n",
    "\n",
    "* 첫 번째 기계 $M_1$ - $\\{\\theta_{red} = 0.7, \\theta_{green} = 0.2, \\theta_{blue} = 0.1\\}$\n",
    "* 두 번째 기계 $M_2$ - $\\{\\theta_{red} = 0.3, \\theta_{green} = 0.4, \\theta_{blue} = 0.3\\}$\n",
    "\n",
    "두 기계에서 사탕을 뽑을 확률은 다음과 같습니다.\n",
    "* $p(M_1) = 0.7$\n",
    "* $p(M_2) = 0.3$\n",
    "\n",
    "다음과 같이 10개의 사탕을 뽑았을 때 이 사탕들이 몇 번째 기계에서 나왔을지 확률로 표현해보는 코드를 작성해보겠습니다.\n",
    "* red - 4\n",
    "* green - 3\n",
    "* blue - 3\n",
    "\n",
    "이 확률은 $p(M_k|x)$, $k \\in \\{1, 2\\}$ 로 나타낼 수 있습니다. 나이브 법칙을 적용하면 $$p(M_k|x) = \\frac{p(M_k)p(x|M_k)}{p(x)}$$가 됩니다. 이때 두 기계의 $p(x)$ 는 같으므로 무시하겠습니다. \n",
    "\n",
    "$p(M_1)$ 와 $p(M_2)$ 의 상대적인 확률은 다음과 같습니다. \n",
    "\n",
    "$p(M_1|x) \\propto p(M_1)p(x|M_1) = $\n",
    " $0.7 * (0.7^4 * 0.2^3 * 0.1^3) = 1.345 * 10^{-6}$\n",
    "\n",
    "$p(M_2|x) \\propto p(M_2)p(x|M_2) = $\n",
    " $0.3 * (0.3^4 * 0.4^3 * 0.3^3) = 4.199 * 10^{-6}$\n",
    "\n",
    "두 번째 기계에서 뽑혔을 확률이 훨씬 더 높은 것을 알 수 있습니다. 두 확률을 표준화(Normalize)하면 다음과 같습니다.\n",
    "\n",
    "$(1.345 * 10^{-6}, 4.199 * 10^{-6}) \\rightarrow (0.243, 0.757)$\n",
    "\n",
    "즉 나이브 베이즈 분류기를 사용했을 때 10개의 사탕이 두번째 기계에서 뽑혔을 확률은 $75.7\\%$입니다.## 실습\n",
    "\n",
    "위의 설명을 읽고, `naive_bayes()` 함수를 직접 구현해보세요.\n",
    "\n",
    "이 함수는 두 개의 원소로 이루어진 리스트 하나를 출력합니다. 첫번째 원소는 $P(M1|test)$, 두 번째 숫자는 $P(M2|test)$의 표준화된 값입니다. 즉, 두 값을 합은 1이 되어야 합니다."
   ]
  },
  {
   "cell_type": "code",
   "execution_count": 1,
   "id": "5270c527",
   "metadata": {},
   "outputs": [
    {
     "name": "stdout",
     "output_type": "stream",
     "text": [
      "[0.24254275200230901, 0.757457247997691]\n"
     ]
    }
   ],
   "source": [
    "import re\n",
    "import math\n",
    "import numpy as np\n",
    "\n",
    "def main():\n",
    "    M1 = {'r': 0.7, 'g': 0.2, 'b': 0.1} # M1 기계의 사탕 비율\n",
    "    M2 = {'r': 0.3, 'g': 0.4, 'b': 0.3} # M2 기계의 사탕 비율\n",
    "    \n",
    "    test = {'r': 4, 'g': 3, 'b': 3}\n",
    "\n",
    "    print(naive_bayes(M1, M2, test, 0.7, 0.3))\n",
    "\n",
    "def naive_bayes(M1, M2, test, M1_prior, M2_prior):\n",
    "    m1 = M1['r'] ** test['r'] * M1['g'] ** test['g'] * M1['b'] ** test['b'] * M1_prior\n",
    "    m2 = M2['r'] ** test['r'] * M2['g'] ** test['g'] * M2['b'] ** test['b'] * M2_prior\n",
    "    # 더해서 m1 + m2 = 1 이되게 정규화\n",
    "    m1_normalized = m1 / (m1 + m2)\n",
    "    m2_normalized = m2 / (m1 + m2)\n",
    "    \n",
    "    return [m1_normalized, m2_normalized]\n",
    "\n",
    "if __name__ == \"__main__\":\n",
    "    main()\n"
   ]
  }
 ],
 "metadata": {
  "kernelspec": {
   "display_name": "Python 3 (ipykernel)",
   "language": "python",
   "name": "python3"
  },
  "language_info": {
   "codemirror_mode": {
    "name": "ipython",
    "version": 3
   },
   "file_extension": ".py",
   "mimetype": "text/x-python",
   "name": "python",
   "nbconvert_exporter": "python",
   "pygments_lexer": "ipython3",
   "version": "3.9.5"
  }
 },
 "nbformat": 4,
 "nbformat_minor": 5
}
