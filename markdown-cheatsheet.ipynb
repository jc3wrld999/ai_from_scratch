{
 "cells": [
  {
   "cell_type": "markdown",
   "id": "64bbd235",
   "metadata": {},
   "source": [
    "- $$y=2x+1$$\n",
    "- $a_1$\n",
    "- $a_{ij}$\n",
    "- $b^2$\n",
    "- $b^{ij}$\n",
    "- $c_1^2$\n",
    "- $y=x^3+2x^2+x+3$\n",
    "- $y=\\sqrt x$\n",
    "- $y=\\sin x$\n",
    "- $y=\\frac{3}{4}$\n",
    "- 시그마 $y=\\sum_{k=1}^n a_k$"
   ]
  }
 ],
 "metadata": {
  "kernelspec": {
   "display_name": "Python 3 (ipykernel)",
   "language": "python",
   "name": "python3"
  },
  "language_info": {
   "codemirror_mode": {
    "name": "ipython",
    "version": 3
   },
   "file_extension": ".py",
   "mimetype": "text/x-python",
   "name": "python",
   "nbconvert_exporter": "python",
   "pygments_lexer": "ipython3",
   "version": "3.9.5"
  }
 },
 "nbformat": 4,
 "nbformat_minor": 5
}
