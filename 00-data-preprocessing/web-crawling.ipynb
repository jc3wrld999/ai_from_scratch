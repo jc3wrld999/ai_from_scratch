{
 "cells": [
  {
   "cell_type": "markdown",
   "id": "2cd50ae9",
   "metadata": {},
   "source": [
    "## 웹 크롤링을 통한 데이터 수집\n",
    "네이버 쇼핑에서 원하는 검색어를 입력하여 나온 상품들의 5페이지까지의 상품들에 대한 정보를 가져온다."
   ]
  },
  {
   "cell_type": "code",
   "execution_count": 6,
   "id": "86937a6e",
   "metadata": {},
   "outputs": [],
   "source": [
    "import requests\n",
    "import bs4\n",
    "import pandas as pd\n",
    "from selenium.webdriver import Chrome\n",
    "from selenium.webdriver.common.by import By\n",
    "import time\n",
    "from tqdm.notebook import tqdm\n",
    "import warnings\n",
    "warnings.simplefilter('ignore')"
   ]
  },
  {
   "cell_type": "code",
   "execution_count": 42,
   "id": "089846e8",
   "metadata": {},
   "outputs": [
    {
     "data": {
      "application/vnd.jupyter.widget-view+json": {
       "model_id": "952b4533cdec4a85a6ea13bc5c960ebc",
       "version_major": 2,
       "version_minor": 0
      },
      "text/plain": [
       "  0%|          | 0/5 [00:00<?, ?it/s]"
      ]
     },
     "metadata": {},
     "output_type": "display_data"
    },
    {
     "data": {
      "application/vnd.jupyter.widget-view+json": {
       "model_id": "2b79272c8fa94b5abba7482bb2c7e385",
       "version_major": 2,
       "version_minor": 0
      },
      "text/plain": [
       "  0%|          | 0/40 [00:00<?, ?it/s]"
      ]
     },
     "metadata": {},
     "output_type": "display_data"
    },
    {
     "data": {
      "application/vnd.jupyter.widget-view+json": {
       "model_id": "d64a3ac6b96e45c5924a5f4eaba6374c",
       "version_major": 2,
       "version_minor": 0
      },
      "text/plain": [
       "  0%|          | 0/40 [00:00<?, ?it/s]"
      ]
     },
     "metadata": {},
     "output_type": "display_data"
    },
    {
     "data": {
      "application/vnd.jupyter.widget-view+json": {
       "model_id": "4d1f6ae3120b4ddfa4ea05ef3331ca0d",
       "version_major": 2,
       "version_minor": 0
      },
      "text/plain": [
       "  0%|          | 0/40 [00:00<?, ?it/s]"
      ]
     },
     "metadata": {},
     "output_type": "display_data"
    },
    {
     "data": {
      "application/vnd.jupyter.widget-view+json": {
       "model_id": "4dd455c089f447d5906160ef9905b549",
       "version_major": 2,
       "version_minor": 0
      },
      "text/plain": [
       "  0%|          | 0/40 [00:00<?, ?it/s]"
      ]
     },
     "metadata": {},
     "output_type": "display_data"
    },
    {
     "data": {
      "application/vnd.jupyter.widget-view+json": {
       "model_id": "3b51334739e74f18bce6e89d218bb8b0",
       "version_major": 2,
       "version_minor": 0
      },
      "text/plain": [
       "  0%|          | 0/40 [00:00<?, ?it/s]"
      ]
     },
     "metadata": {},
     "output_type": "display_data"
    }
   ],
   "source": [
    "query = \"애플\"\n",
    "\n",
    "titles = []\n",
    "prices = []\n",
    "review_counts = []\n",
    "buy_counts = []\n",
    "published_dates = []\n",
    "favorites = []\n",
    "\n",
    "driver = Chrome('./chromedriver')\n",
    "\n",
    "for page_no in tqdm(range(1, 6)):  # 5페이지\n",
    "    page_url = f\"https://search.shopping.naver.com/search/all?frm=NVSCTAB&origQuery={query}&pagingIndex={page_no}&pagingSize=40&productSet=total&query={query}&sort=rel&timestamp=&viewType=list\"\n",
    "    driver.get(page_url)\n",
    "    time.sleep(1)\n",
    "    \n",
    "    for scroll_down in range(10): # 스크롤 10번정도 하면 끝까지 내려감\n",
    "        driver.execute_script('window.scrollTo(0, document.body.scrollHeight)') # 자바스크립트 쿼리\n",
    "        time.sleep(0.5)\n",
    "    \n",
    "    list_basis = driver.find_element(By.CLASS_NAME, 'list_basis')\n",
    "    item_list = list_basis.find_elements(By.CLASS_NAME, 'basicList_inner__xCM3J')\n",
    "    \n",
    "    items = []\n",
    "    for i in tqdm(range(len(item_list))):\n",
    "        item = item_list[i]\n",
    "        title = item.find_element(By.CLASS_NAME, 'basicList_title__VfX3c').text\n",
    "        titles.append(title)\n",
    "        \n",
    "        price = item.find_element(By.CLASS_NAME, 'price_num__S2p_v').text.replace(',', '')[:-1]\n",
    "        prices.append(int(price))\n",
    "        \n",
    "        footer = item.find_element(By.CLASS_NAME, 'basicList_etc_box__5lkgg')\n",
    "        footer_text = footer.text\n",
    "        \n",
    "        try:\n",
    "            reviews = footer.find_elements(By.CLASS_NAME, 'basicList_num__sfz3h')\n",
    "            if \"리뷰\" in footer_text:\n",
    "                review_counts.append(int(reviews[0].text.replace(',', '')))\n",
    "            else:\n",
    "                review_counts.append(0)\n",
    "            if \"구매건수\" in footer_text:\n",
    "                buy_counts.append(int(reviews[1].text.replace(',', '')))\n",
    "            else:\n",
    "                buy_counts.append(0)\n",
    "            if \"등록일\" in footer_text:\n",
    "                published_dates.append(footer.find_element(By.CSS_SELECTOR, 'span.basicList_etc__LSkN_').text[4:])\n",
    "            else:\n",
    "                published_dates.append('')\n",
    "            if \"찜하기\" in footer_text:\n",
    "                favorites.append(int(reviews[-1].text.replace(',', '')))\n",
    "            else:\n",
    "                favorites.append(0)\n",
    "        except IndexError:\n",
    "            continue\n",
    "\n",
    "driver.close()\n",
    "        "
   ]
  },
  {
   "cell_type": "code",
   "execution_count": 34,
   "id": "82515ebf",
   "metadata": {},
   "outputs": [
    {
     "name": "stdout",
     "output_type": "stream",
     "text": [
      "200 200 200 200 200\n"
     ]
    }
   ],
   "source": [
    "print(len(titles), len(prices), len(review_counts), len(published_dates), len(favorites))"
   ]
  },
  {
   "cell_type": "code",
   "execution_count": 47,
   "id": "86146744",
   "metadata": {},
   "outputs": [
    {
     "data": {
      "text/html": [
       "<div>\n",
       "<style scoped>\n",
       "    .dataframe tbody tr th:only-of-type {\n",
       "        vertical-align: middle;\n",
       "    }\n",
       "\n",
       "    .dataframe tbody tr th {\n",
       "        vertical-align: top;\n",
       "    }\n",
       "\n",
       "    .dataframe thead th {\n",
       "        text-align: right;\n",
       "    }\n",
       "</style>\n",
       "<table border=\"1\" class=\"dataframe\">\n",
       "  <thead>\n",
       "    <tr style=\"text-align: right;\">\n",
       "      <th></th>\n",
       "      <th>title</th>\n",
       "      <th>price</th>\n",
       "      <th>review_counts</th>\n",
       "      <th>published_date</th>\n",
       "      <th>favorites</th>\n",
       "    </tr>\n",
       "  </thead>\n",
       "  <tbody>\n",
       "    <tr>\n",
       "      <th>0</th>\n",
       "      <td>Apple 에어팟 프로 2세대 (MQD83KH/A)</td>\n",
       "      <td>303000</td>\n",
       "      <td>7836</td>\n",
       "      <td>2022.09.</td>\n",
       "      <td>839</td>\n",
       "    </tr>\n",
       "    <tr>\n",
       "      <th>1</th>\n",
       "      <td>Apple 에어팟 3세대 맥세이프 충전 케이스 모델 (MME73KH/A)</td>\n",
       "      <td>241710</td>\n",
       "      <td>12178</td>\n",
       "      <td>2021.10.</td>\n",
       "      <td>1512</td>\n",
       "    </tr>\n",
       "    <tr>\n",
       "      <th>2</th>\n",
       "      <td>Apple 에어팟 프로 1세대 2021년형 맥세이프 호환 (MLWK3KH/A)</td>\n",
       "      <td>254940</td>\n",
       "      <td>10341</td>\n",
       "      <td>2021.10.</td>\n",
       "      <td>1609</td>\n",
       "    </tr>\n",
       "    <tr>\n",
       "      <th>3</th>\n",
       "      <td>애플 에어팟 프로 2세대 에어팟프로2 국내정품 MQD83KH/A 당일배송</td>\n",
       "      <td>331900</td>\n",
       "      <td>527</td>\n",
       "      <td>2022.10.</td>\n",
       "      <td>438</td>\n",
       "    </tr>\n",
       "    <tr>\n",
       "      <th>4</th>\n",
       "      <td>해외Apple 에어팟 프로 2세대 (MQD83KH/A)</td>\n",
       "      <td>205000</td>\n",
       "      <td>688</td>\n",
       "      <td>2022.09.</td>\n",
       "      <td>387</td>\n",
       "    </tr>\n",
       "    <tr>\n",
       "      <th>...</th>\n",
       "      <td>...</td>\n",
       "      <td>...</td>\n",
       "      <td>...</td>\n",
       "      <td>...</td>\n",
       "      <td>...</td>\n",
       "    </tr>\n",
       "    <tr>\n",
       "      <th>195</th>\n",
       "      <td>애플 에어팟 2세대 with 충전 케이스 A2032 A2031 A1602 + Ali...</td>\n",
       "      <td>267400</td>\n",
       "      <td>0</td>\n",
       "      <td>2022.12.</td>\n",
       "      <td>0</td>\n",
       "    </tr>\n",
       "    <tr>\n",
       "      <th>196</th>\n",
       "      <td>해외애플 AirPods 2세대 왼쪽-A2031(L) 교체단품 호환 새품</td>\n",
       "      <td>58340</td>\n",
       "      <td>0</td>\n",
       "      <td>2022.11.</td>\n",
       "      <td>1</td>\n",
       "    </tr>\n",
       "    <tr>\n",
       "      <th>197</th>\n",
       "      <td>해외애플 파워비츠 프로 Powerbeats Pro 무선이어폰 익스트림블루투스이어폰</td>\n",
       "      <td>276000</td>\n",
       "      <td>0</td>\n",
       "      <td>2022.10.</td>\n",
       "      <td>0</td>\n",
       "    </tr>\n",
       "    <tr>\n",
       "      <th>198</th>\n",
       "      <td>애플 Airpods 2 에어팟2세대 MV7N2KH/A 유선충전</td>\n",
       "      <td>231100</td>\n",
       "      <td>0</td>\n",
       "      <td>2022.12.</td>\n",
       "      <td>0</td>\n",
       "    </tr>\n",
       "    <tr>\n",
       "      <th>199</th>\n",
       "      <td>에어팟 2세대 유선 무선 충전 애플 에어팟2</td>\n",
       "      <td>184900</td>\n",
       "      <td>1</td>\n",
       "      <td>2020.02.</td>\n",
       "      <td>1</td>\n",
       "    </tr>\n",
       "  </tbody>\n",
       "</table>\n",
       "<p>200 rows × 5 columns</p>\n",
       "</div>"
      ],
      "text/plain": [
       "                                                 title   price  review_counts  \\\n",
       "0                         Apple 에어팟 프로 2세대 (MQD83KH/A)  303000           7836   \n",
       "1             Apple 에어팟 3세대 맥세이프 충전 케이스 모델 (MME73KH/A)  241710          12178   \n",
       "2          Apple 에어팟 프로 1세대 2021년형 맥세이프 호환 (MLWK3KH/A)  254940          10341   \n",
       "3             애플 에어팟 프로 2세대 에어팟프로2 국내정품 MQD83KH/A 당일배송  331900            527   \n",
       "4                       해외Apple 에어팟 프로 2세대 (MQD83KH/A)  205000            688   \n",
       "..                                                 ...     ...            ...   \n",
       "195  애플 에어팟 2세대 with 충전 케이스 A2032 A2031 A1602 + Ali...  267400              0   \n",
       "196            해외애플 AirPods 2세대 왼쪽-A2031(L) 교체단품 호환 새품   58340              0   \n",
       "197      해외애플 파워비츠 프로 Powerbeats Pro 무선이어폰 익스트림블루투스이어폰  276000              0   \n",
       "198                 애플 Airpods 2 에어팟2세대 MV7N2KH/A 유선충전  231100              0   \n",
       "199                           에어팟 2세대 유선 무선 충전 애플 에어팟2  184900              1   \n",
       "\n",
       "    published_date  favorites  \n",
       "0         2022.09.        839  \n",
       "1         2021.10.       1512  \n",
       "2         2021.10.       1609  \n",
       "3         2022.10.        438  \n",
       "4         2022.09.        387  \n",
       "..             ...        ...  \n",
       "195       2022.12.          0  \n",
       "196       2022.11.          1  \n",
       "197       2022.10.          0  \n",
       "198       2022.12.          0  \n",
       "199       2020.02.          1  \n",
       "\n",
       "[200 rows x 5 columns]"
      ]
     },
     "execution_count": 47,
     "metadata": {},
     "output_type": "execute_result"
    }
   ],
   "source": [
    "result = pd.DataFrame({\"title\": titles,\n",
    "                      \"price\": prices,\n",
    "                      \"review_counts\": review_counts,\n",
    "                      \"published_date\": published_dates,\n",
    "                      \"favorites\": favorites})\n",
    "result"
   ]
  },
  {
   "cell_type": "code",
   "execution_count": 48,
   "id": "f8f57355",
   "metadata": {},
   "outputs": [],
   "source": [
    "result.to_csv(\"review_data.csv\", index=False)"
   ]
  }
 ],
 "metadata": {
  "kernelspec": {
   "display_name": "Python 3 (ipykernel)",
   "language": "python",
   "name": "python3"
  },
  "language_info": {
   "codemirror_mode": {
    "name": "ipython",
    "version": 3
   },
   "file_extension": ".py",
   "mimetype": "text/x-python",
   "name": "python",
   "nbconvert_exporter": "python",
   "pygments_lexer": "ipython3",
   "version": "3.9.5"
  }
 },
 "nbformat": 4,
 "nbformat_minor": 5
}
