{
 "cells": [
  {
   "cell_type": "markdown",
   "id": "3423826e",
   "metadata": {},
   "source": [
    "## 극한과 연속\n",
    "\n",
    "극한과 연속은 수학뿐 아니라 여러 가지 응용 분야에서 매우 중요한 개념입니다. 특히 수열은 연속적인 개념을 근사적으로 표현할 때 자주 등장합니다. 수열의 점화식과 극한은 딥러닝의 한 방법론인 순환신경망 분석에서 매우 중요합니다. 순환신경망은 반복적이고 순차적인 데이터 학습에 특화된 인공신경망으로, 어떤 특정 부분이 반복되는 구조를 갖고 있습니다."
   ]
  }
 ],
 "metadata": {
  "kernelspec": {
   "display_name": "Python 3 (ipykernel)",
   "language": "python",
   "name": "python3"
  },
  "language_info": {
   "codemirror_mode": {
    "name": "ipython",
    "version": 3
   },
   "file_extension": ".py",
   "mimetype": "text/x-python",
   "name": "python",
   "nbconvert_exporter": "python",
   "pygments_lexer": "ipython3",
   "version": "3.9.5"
  }
 },
 "nbformat": 4,
 "nbformat_minor": 5
}
