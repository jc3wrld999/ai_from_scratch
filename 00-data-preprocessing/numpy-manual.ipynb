{
 "cells": [
  {
   "cell_type": "markdown",
   "id": "29498a73",
   "metadata": {},
   "source": [
    "## Numpy Manual"
   ]
  },
  {
   "cell_type": "code",
   "execution_count": 2,
   "id": "f457fe4e",
   "metadata": {},
   "outputs": [],
   "source": [
    "import numpy as np"
   ]
  },
  {
   "cell_type": "markdown",
   "id": "03c0f2b3",
   "metadata": {},
   "source": [
    "### 배열생성\n",
    "\n",
    "numpy 자료형\n",
    "\n",
    "- i - integer (정수)\n",
    "- ? - boolean (참거짓)\n",
    "- u - unsigned integer (부호없는 정수)\n",
    "- f - float (소수)\n",
    "- c - complex (복소수)\n",
    "- m - timedelta (타임델타)\n",
    "- M - datetime (날짜시간)\n",
    "- O - object (객체)\n",
    "- S - string (문자열)\n",
    "- U - unicode string (유니코드 문자열)\n",
    "- V - void (다른 유형에 대한 고정된 메모리 덩어리)\n",
    "\n",
    "예시\n",
    "```python\n",
    "i1 # 1바이트(8비트) 정수\n",
    "```\n",
    "\n",
    "ndarray 속성\n",
    "```python\n",
    "a = np.arnage(15).reshape(3, 5)\n",
    "print(a.ndim)\n",
    "ndim # 차원수\n",
    "itemsize # 아이템 별 크기\n",
    "size # 아이템 개수\n",
    "nbytes # 배열의 총 크기 = 아이템 개수 * 아이템 크기\n",
    "T # 교차된 배열\n",
    "shape # 배열의 모양\n",
    "flat\n",
    "imag\n",
    "real\n",
    "```"
   ]
  },
  {
   "cell_type": "code",
   "execution_count": 3,
   "id": "956e4c1e",
   "metadata": {},
   "outputs": [
    {
     "data": {
      "text/plain": [
       "array([0., 0., 0., 0., 0.])"
      ]
     },
     "execution_count": 3,
     "metadata": {},
     "output_type": "execute_result"
    }
   ],
   "source": [
    "# 배열생성\n",
    "np.zeros(5)"
   ]
  },
  {
   "cell_type": "code",
   "execution_count": 13,
   "id": "409e0840",
   "metadata": {},
   "outputs": [
    {
     "name": "stderr",
     "output_type": "stream",
     "text": [
      "C:\\Users\\csjty\\AppData\\Local\\Temp\\ipykernel_40020\\3151184454.py:1: DeprecationWarning: `np.int` is a deprecated alias for the builtin `int`. To silence this warning, use `int` by itself. Doing this will not modify any behavior and is safe. When replacing `np.int`, you may wish to use e.g. `np.int64` or `np.int32` to specify the precision. If you wish to review your current use, check the release note link for additional information.\n",
      "Deprecated in NumPy 1.20; for more details and guidance: https://numpy.org/devdocs/release/1.20.0-notes.html#deprecations\n",
      "  np.zeros(5, dtype=np.int)\n"
     ]
    },
    {
     "data": {
      "text/plain": [
       "array([0, 0, 0, 0, 0])"
      ]
     },
     "execution_count": 13,
     "metadata": {},
     "output_type": "execute_result"
    }
   ],
   "source": [
    "np.zeros(5, dtype=np.int)"
   ]
  },
  {
   "cell_type": "code",
   "execution_count": 14,
   "id": "ff8bd441",
   "metadata": {},
   "outputs": [
    {
     "data": {
      "text/plain": [
       "array([[0.],\n",
       "       [0.]])"
      ]
     },
     "execution_count": 14,
     "metadata": {},
     "output_type": "execute_result"
    }
   ],
   "source": [
    "np.zeros((2, 1))"
   ]
  },
  {
   "cell_type": "code",
   "execution_count": 15,
   "id": "0ca8cbae",
   "metadata": {},
   "outputs": [
    {
     "data": {
      "text/plain": [
       "array([(0, 0), (0, 0)], dtype=[('x', '<i4'), ('y', '<i4')])"
      ]
     },
     "execution_count": 15,
     "metadata": {},
     "output_type": "execute_result"
    }
   ],
   "source": [
    "# custom dtype\n",
    "np.zeros((2,), dtype=[('x', 'i4'), ('y', 'i4')])"
   ]
  },
  {
   "cell_type": "code",
   "execution_count": 3,
   "id": "5820b892",
   "metadata": {},
   "outputs": [
    {
     "data": {
      "text/plain": [
       "array([0, 1, 2, 3, 4])"
      ]
     },
     "execution_count": 3,
     "metadata": {},
     "output_type": "execute_result"
    }
   ],
   "source": [
    "np.arange(5)"
   ]
  },
  {
   "cell_type": "code",
   "execution_count": 4,
   "id": "370cb24c",
   "metadata": {},
   "outputs": [
    {
     "data": {
      "text/plain": [
       "array([0, 1, 2, 3, 4, 5])"
      ]
     },
     "execution_count": 4,
     "metadata": {},
     "output_type": "execute_result"
    }
   ],
   "source": [
    "np.array([0, 1, 2, 3, 4, 5])"
   ]
  },
  {
   "cell_type": "code",
   "execution_count": 5,
   "id": "a27a4e7f",
   "metadata": {},
   "outputs": [
    {
     "data": {
      "text/plain": [
       "array([[0, 1],\n",
       "       [0, 1]])"
      ]
     },
     "execution_count": 5,
     "metadata": {},
     "output_type": "execute_result"
    }
   ],
   "source": [
    "m = np.array([np.arange(2), np.arange(2)])\n",
    "m"
   ]
  },
  {
   "cell_type": "code",
   "execution_count": 6,
   "id": "72ab72f0",
   "metadata": {},
   "outputs": [
    {
     "data": {
      "text/plain": [
       "(2, 2)"
      ]
     },
     "execution_count": 6,
     "metadata": {},
     "output_type": "execute_result"
    }
   ],
   "source": [
    "m.shape"
   ]
  },
  {
   "cell_type": "code",
   "execution_count": 12,
   "id": "4cac2322",
   "metadata": {},
   "outputs": [
    {
     "data": {
      "text/plain": [
       "array([[        0,         0],\n",
       "       [538781136,       613]])"
      ]
     },
     "execution_count": 12,
     "metadata": {},
     "output_type": "execute_result"
    }
   ],
   "source": [
    "# 초기화 배열\n",
    "np.empty([2, 2], dtype=int)"
   ]
  },
  {
   "cell_type": "code",
   "execution_count": 20,
   "id": "81e1f75d",
   "metadata": {},
   "outputs": [
    {
     "data": {
      "text/plain": [
       "array([5, 7, 6, 5, 5, 5, 3, 7, 6, 4])"
      ]
     },
     "execution_count": 20,
     "metadata": {},
     "output_type": "execute_result"
    }
   ],
   "source": [
    "# 랜덤 배열 생성\n",
    "# 정규화 분산 데이터로부터 랜덤한 값 리턴\n",
    "np.random.randn(2, 4)\n",
    "\n",
    "# np.random.randint(n1, n2) n1~n2 사이의 정수 생성\n",
    "np.random.randint(3, 8, size=10)"
   ]
  },
  {
   "cell_type": "code",
   "execution_count": 23,
   "id": "d55a22f0",
   "metadata": {
    "scrolled": true
   },
   "outputs": [
    {
     "name": "stdout",
     "output_type": "stream",
     "text": [
      "float64\n",
      "int32\n",
      "[1 2 1]\n"
     ]
    }
   ],
   "source": [
    "# 형 선언하기\n",
    "arr1 = np.array([1, 2, 3], dtype='float')\n",
    "arr2 = np.array([1, 2, 3], dtype='int32')\n",
    "print(arr1.dtype)\n",
    "print(arr2.dtype)\n",
    "arr1 = np.array([1.5, 2.1, 1.3], dtype='float')\n",
    "arr2 = arr1.astype(np.int32)\n",
    "print(arr2)"
   ]
  },
  {
   "cell_type": "code",
   "execution_count": 29,
   "id": "da8125b1",
   "metadata": {
    "scrolled": true
   },
   "outputs": [
    {
     "name": "stdout",
     "output_type": "stream",
     "text": [
      "[[ 0  1  2  3  4]\n",
      " [ 5  6  7  8  9]\n",
      " [10 11 12 13 14]]\n",
      "---------일반 속성---------\n",
      "차원수 : 2\n",
      "아이템 별 크기: 4\n",
      "아이템 개수 : 15\n",
      "배열의 총 크기 = 아이템 개수 * 아이템 크기 : 60\n",
      "교차된 배열 : [[ 0  5 10]\n",
      " [ 1  6 11]\n",
      " [ 2  7 12]\n",
      " [ 3  8 13]\n",
      " [ 4  9 14]]\n",
      "배열의 모양 : (3, 5)\n",
      "---------복소수 속성---------\n",
      "flat : <numpy.flatiter object at 0x000002651F0A7460>\n",
      "imag : [[0 0 0 0 0]\n",
      " [0 0 0 0 0]\n",
      " [0 0 0 0 0]]\n",
      "real : [[ 0  1  2  3  4]\n",
      " [ 5  6  7  8  9]\n",
      " [10 11 12 13 14]]\n"
     ]
    }
   ],
   "source": [
    "a = np.arange(15).reshape(3, 5)\n",
    "print(a)\n",
    "print('---------일반 속성---------')\n",
    "print(f'차원수 : {a.ndim}')\n",
    "print(f'아이템 별 크기: {a.itemsize}')\n",
    "print(f'아이템 개수 : {a.size}')\n",
    "print(f'배열의 총 크기 = 아이템 개수 * 아이템 크기 : {a.nbytes}')\n",
    "print(f'교차된 배열 : {a.T}')\n",
    "print(f'배열의 모양 : {a.shape}')\n",
    "print('---------복소수 속성---------')\n",
    "print(f'flat : {a.flat}')\n",
    "print(f'imag : {a.imag}')\n",
    "print(f'real : {a.real}')"
   ]
  },
  {
   "cell_type": "code",
   "execution_count": 30,
   "id": "33f21492",
   "metadata": {},
   "outputs": [
    {
     "data": {
      "text/plain": [
       "'int32'"
      ]
     },
     "execution_count": 30,
     "metadata": {},
     "output_type": "execute_result"
    }
   ],
   "source": [
    "a.dtype.name"
   ]
  },
  {
   "cell_type": "markdown",
   "id": "8b1568e3",
   "metadata": {},
   "source": [
    "### 배열 인덱싱"
   ]
  },
  {
   "cell_type": "code",
   "execution_count": 8,
   "id": "84a9281b",
   "metadata": {},
   "outputs": [
    {
     "data": {
      "text/plain": [
       "array([[0, 3],\n",
       "       [0, 1]])"
      ]
     },
     "execution_count": 8,
     "metadata": {},
     "output_type": "execute_result"
    }
   ],
   "source": [
    "m[0, 1] = 3\n",
    "m"
   ]
  },
  {
   "cell_type": "code",
   "execution_count": 9,
   "id": "a426cfb9",
   "metadata": {},
   "outputs": [
    {
     "data": {
      "text/plain": [
       "array([[2, 5],\n",
       "       [2, 3]])"
      ]
     },
     "execution_count": 9,
     "metadata": {},
     "output_type": "execute_result"
    }
   ],
   "source": [
    "# 배열연산\n",
    "m + 2"
   ]
  },
  {
   "cell_type": "code",
   "execution_count": 10,
   "id": "7d3feb79",
   "metadata": {},
   "outputs": [
    {
     "data": {
      "text/plain": [
       "array([3])"
      ]
     },
     "execution_count": 10,
     "metadata": {},
     "output_type": "execute_result"
    }
   ],
   "source": [
    "m[0, 1:]"
   ]
  },
  {
   "cell_type": "markdown",
   "id": "9775bd6c",
   "metadata": {},
   "source": [
    "## 배열 모양 조작\n",
    "- ravel: 1차원으로 변경\n",
    "- faltten: 1차원으로 변경, 새로운 메모리에 저장됨\n",
    "- shape: 튜플을 수정해 정의, 해당 변수 메로리 직접 변조\n",
    "- Transpose(): 교차시킴, 행은 열이 되고 열은 행이 됨\n",
    "- Resize(a, b): 배열을 원하는 모양으로 바꿈, reshape은 출력을 변경하지만, resize는 배열을 직접 바꾼다."
   ]
  },
  {
   "cell_type": "code",
   "execution_count": 44,
   "id": "3529e40d",
   "metadata": {},
   "outputs": [
    {
     "name": "stdout",
     "output_type": "stream",
     "text": [
      "[ 0  1  2  3  4  5  6  7  8  9 10 11 12 13 14 15 16 17 18 19 20 21 22 23]\n",
      "\n",
      "b.ravel(): [ 0  1  2  3  4  5  6  7  8  9 10 11 12 13 14 15 16 17 18 19 20 21 22 23]\n",
      "\n",
      "shape = (6, 4): [[ 0  1  2  3]\n",
      " [ 4  5  6  7]\n",
      " [ 8  9 10 11]\n",
      " [12 13 14 15]\n",
      " [16 17 18 19]\n",
      " [20 21 22 23]]\n",
      "\n",
      "b.transpose(): [[ 0  1  2  3]\n",
      " [ 4  5  6  7]\n",
      " [ 8  9 10 11]\n",
      " [12 13 14 15]\n",
      " [16 17 18 19]\n",
      " [20 21 22 23]]\n",
      "\n",
      "b.flatten(): [ 0  1  2  3  4  5  6  7  8  9 10 11 12 13 14 15 16 17 18 19 20 21 22 23]\n",
      "\n",
      "b.resize(): [[ 0  1  2  3]\n",
      " [ 4  5  6  7]\n",
      " [ 8  9 10 11]\n",
      " [12 13 14 15]\n",
      " [16 17 18 19]\n",
      " [20 21 22 23]]\n",
      "\n",
      "b.resize((2, 12)): [[ 0  1  2  3  4  5  6  7  8  9 10 11]\n",
      " [12 13 14 15 16 17 18 19 20 21 22 23]]\n",
      "\n"
     ]
    }
   ],
   "source": [
    "b = np.arange(24)\n",
    "print(f'{b}\\n')\n",
    "\n",
    "b.ravel()\n",
    "print(f'b.ravel(): {b}\\n')\n",
    "\n",
    "b.shape = (6, 4)\n",
    "print(f'shape = (6, 4): {b}\\n')\n",
    "\n",
    "b.transpose()\n",
    "print(f'b.transpose(): {b}\\n')\n",
    "\n",
    "print(f'b.flatten(): {b.flatten()}\\n')\n",
    "\n",
    "b.resize()\n",
    "print(f'b.resize(): {b}\\n')\n",
    "\n",
    "b.resize((2, 12))\n",
    "print(f'b.resize((2, 12)): {b}\\n')"
   ]
  },
  {
   "cell_type": "markdown",
   "id": "2e86dbea",
   "metadata": {},
   "source": [
    "## Reference\n",
    "- [ml-ko.kr](https://ml-ko.kr/homl2/tools_numpy.html)"
   ]
  }
 ],
 "metadata": {
  "kernelspec": {
   "display_name": "Python 3 (ipykernel)",
   "language": "python",
   "name": "python3"
  },
  "language_info": {
   "codemirror_mode": {
    "name": "ipython",
    "version": 3
   },
   "file_extension": ".py",
   "mimetype": "text/x-python",
   "name": "python",
   "nbconvert_exporter": "python",
   "pygments_lexer": "ipython3",
   "version": "3.9.5"
  }
 },
 "nbformat": 4,
 "nbformat_minor": 5
}
