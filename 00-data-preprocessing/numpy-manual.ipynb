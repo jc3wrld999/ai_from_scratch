{
 "cells": [
  {
   "cell_type": "markdown",
   "id": "29498a73",
   "metadata": {},
   "source": [
    "## Numpy Manual"
   ]
  },
  {
   "cell_type": "code",
   "execution_count": 1,
   "id": "f457fe4e",
   "metadata": {},
   "outputs": [],
   "source": [
    "import numpy as np"
   ]
  },
  {
   "cell_type": "code",
   "execution_count": 3,
   "id": "956e4c1e",
   "metadata": {},
   "outputs": [
    {
     "data": {
      "text/plain": [
       "array([0., 0., 0., 0., 0.])"
      ]
     },
     "execution_count": 3,
     "metadata": {},
     "output_type": "execute_result"
    }
   ],
   "source": [
    "# 배열생성\n",
    "np.zeros(5)"
   ]
  },
  {
   "cell_type": "markdown",
   "id": "2e86dbea",
   "metadata": {},
   "source": [
    "## Reference\n",
    "- [ml-ko.kr](https://ml-ko.kr/homl2/tools_numpy.html)"
   ]
  }
 ],
 "metadata": {
  "kernelspec": {
   "display_name": "Python 3 (ipykernel)",
   "language": "python",
   "name": "python3"
  },
  "language_info": {
   "codemirror_mode": {
    "name": "ipython",
    "version": 3
   },
   "file_extension": ".py",
   "mimetype": "text/x-python",
   "name": "python",
   "nbconvert_exporter": "python",
   "pygments_lexer": "ipython3",
   "version": "3.9.5"
  }
 },
 "nbformat": 4,
 "nbformat_minor": 5
}
