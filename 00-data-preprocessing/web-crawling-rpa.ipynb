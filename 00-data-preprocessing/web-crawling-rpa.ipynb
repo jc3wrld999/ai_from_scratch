{
 "cells": [
  {
   "cell_type": "markdown",
   "id": "2bdc6aac",
   "metadata": {},
   "source": [
    "## 자동화된 웹크롤러 만들기\n",
    "\n",
    "```python\n",
    "from selenium.webdriver.common.by import By\n",
    "driver = Chrome('./chromedriver')\n",
    "driver.get(\"http://page url\")\n",
    "element = driver.find_element(By.CLASS_NAME, 'element')\n",
    "driver.execute_script('window.scrollTo(0, document.body.scrollHeight)') # javascript query\n",
    "time.sleep(2) # 로딩\n",
    "```\n",
    "|syntax|description|\n",
    "| --- | --- |\n",
    "| By.ID | 태그의 id값으로 추출 |\n",
    "| By.NAME | 태그의 name값으로 추출 |\n",
    "| By.XPATH | 태그의 경로로 추출 |\n",
    "| By.LINK\\_TEXT | 링크 텍스트값으로 추출 |\n",
    "| By.PARTIAL\\_LINK\\_TEXT | 링크 텍스트의 자식 텍스트 값을 추출 |\n",
    "| By.TAG\\_NAME | 태그 이름으로 추출 |\n",
    "| By.CLASS\\_NAME | 태그의 클래스명으로 추출 |\n",
    "| By.CSS\\_SELECTOR | css선택자로 추출 |\n"
   ]
  },
  {
   "cell_type": "code",
   "execution_count": 1,
   "id": "3cbf16dc",
   "metadata": {},
   "outputs": [],
   "source": [
    "import requests\n",
    "import bs4\n",
    "import pandas as pd\n",
    "from selenium.webdriver import Chrome\n",
    "from selenium.webdriver.common.by import By\n",
    "import time\n",
    "from tqdm.notebook import tqdm\n",
    "import warnings\n",
    "\n",
    "warnings.simplefilter('ignore')"
   ]
  },
  {
   "cell_type": "code",
   "execution_count": 2,
   "id": "e4f62e5d",
   "metadata": {},
   "outputs": [],
   "source": [
    "driver = Chrome('./chromedriver')\n",
    "driver.get(\"https://www.opinet.co.kr/searRgSelect.do\")\n",
    "time.sleep(2) # 로딩\n",
    "driver.execute_script('goSubPage(0, 0, 99)') # javascript query\n"
   ]
  }
 ],
 "metadata": {
  "kernelspec": {
   "display_name": "Python 3 (ipykernel)",
   "language": "python",
   "name": "python3"
  },
  "language_info": {
   "codemirror_mode": {
    "name": "ipython",
    "version": 3
   },
   "file_extension": ".py",
   "mimetype": "text/x-python",
   "name": "python",
   "nbconvert_exporter": "python",
   "pygments_lexer": "ipython3",
   "version": "3.9.5"
  }
 },
 "nbformat": 4,
 "nbformat_minor": 5
}
