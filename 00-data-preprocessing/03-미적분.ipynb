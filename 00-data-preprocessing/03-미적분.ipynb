{
 "cells": [
  {
   "cell_type": "markdown",
   "id": "0f5028bc",
   "metadata": {},
   "source": [
    "## 미분\n",
    "미분은 변화하는 정도(변화율)을 나타내며, 자연과학에서 매우 중요합니다. 또한, 인공지능 분야에서 손실함수의 최솟값을 찾을 때 미분은 핵심적인 개념으로 사용합니다. 인공지능을 '학습'시키는 것은 예측값의 오차를 측정하는 손실함수의 최솟값을 찾는 과정입니다. 손실함수의 최솟값은 손실함수의 변화율로 찾는데, 이를 쉽게 계산하는 방법이 바로 '오차 역전파법'입니다.\n",
    "- 도함수\n",
    "- 삼각함수의 도함수\n",
    "- 지수함수의 미분\n",
    "- 로그함수의 미분\n",
    "- 이차도함수\n",
    "- n차도함수\n",
    "- 합성함수의 미분\n",
    "- 음함수의 미분"
   ]
  },
  {
   "cell_type": "markdown",
   "id": "3f74d7b1",
   "metadata": {},
   "source": [
    "## 적분\n",
    "적분은 도형의 넓이와 입체의 부피를 구할 때 중요하게 쓰입니다. 뿐만 아니라, 적분은 함수로부터 특징적인 패턴을 추출하는 데 사용할 수 있는 연산인 '합성곱, Convolutional'을 정의하는 데에도 쓰입니다. 적분으로 정의한 합성곱을 응용한 합성곱 신경만, Convolutional Neural Network, CNN은 디지털 영상을 다루는 딥러닝의 한 분야입니다.\n",
    "- 부정적분\n",
    "- $x^n$의 부정적분\n",
    "- 삼각함수의 부정적분\n",
    "- 지수함수의 부정적분"
   ]
  }
 ],
 "metadata": {
  "kernelspec": {
   "display_name": "Python 3 (ipykernel)",
   "language": "python",
   "name": "python3"
  },
  "language_info": {
   "codemirror_mode": {
    "name": "ipython",
    "version": 3
   },
   "file_extension": ".py",
   "mimetype": "text/x-python",
   "name": "python",
   "nbconvert_exporter": "python",
   "pygments_lexer": "ipython3",
   "version": "3.9.5"
  }
 },
 "nbformat": 4,
 "nbformat_minor": 5
}
