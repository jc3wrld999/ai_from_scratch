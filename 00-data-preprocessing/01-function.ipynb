{
 "cells": [
  {
   "cell_type": "markdown",
   "id": "015f81d0",
   "metadata": {},
   "source": [
    "## 함수\n",
    "입력값을 일련의 과정에 따라 결괏값으로 도출하는 것을 '함수'라고 합니다. 어떤 의사결정을 내리는 것도 일종의 함수라고 할 수 있습니다.\n",
    "- 함수\n",
    "- 합성함수\n",
    "- 역함수\n",
    "- 일차함수\n",
    "- 이차함수\n",
    "- 지수함수\n",
    "- 로그함수\n",
    "- 호도법\n",
    "- 삼각함수\n"
   ]
  }
 ],
 "metadata": {
  "kernelspec": {
   "display_name": "Python 3 (ipykernel)",
   "language": "python",
   "name": "python3"
  },
  "language_info": {
   "codemirror_mode": {
    "name": "ipython",
    "version": 3
   },
   "file_extension": ".py",
   "mimetype": "text/x-python",
   "name": "python",
   "nbconvert_exporter": "python",
   "pygments_lexer": "ipython3",
   "version": "3.9.5"
  }
 },
 "nbformat": 4,
 "nbformat_minor": 5
}
