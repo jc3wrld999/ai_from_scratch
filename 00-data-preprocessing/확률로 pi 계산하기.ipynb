{
 "cells": [
  {
   "cell_type": "markdown",
   "id": "ee08c57b",
   "metadata": {},
   "source": [
    "## 확률로 $\\pi$ 계산하기\n",
    "\n",
    "#### [⏩ 영상 바로가기](#video-00:00:00-00:28:59)\n",
    "\n",
    "$\\pi$ 원주율은 수학에서 가장 중요한 숫자 중 하나입니다. 원주율은 원 둘레와 지름의 비율로 $3.14159265$... 입니다.\n",
    "\n",
    "2차원 평면에 점을 무작위로 찍어서 원주율을 구해보겠습니다. 원리는 원의 넓이를 구하는 것입니다.\n",
    "\n",
    "반지름이 $1$인 원이 있다고 가정해보겠습니다. 이 원은 높이, 너비가 $2$인 사각형에 들어갑니다. 이 때 원의 넓이는 다음과 같이 구할 수 있습니다.\n",
    "\n",
    "$\\pi r^2 = \\pi$\n",
    "\n",
    "즉, 반지름이 $1$인 원의 넓이는 $\\pi$ 입니다.\n",
    "\n",
    "우리가 무작위로 찍은 점 중 몇 %가 원 안에 들어가 있을지를 알게 된다면, 그 원의 넓이를 추측해 낼 수 있습니다. 예로, 75%의 점이 원 안에 있다면 그 원의 넓이는 $0.75 \\times 4 = 3.0$ 이 됩니다. 원의 넓이가 $\\pi$ 라고 했으므로, $\\pi$ 는 $3.0$이라고 추측할 수 있습니다.## 실습\n",
    "\n",
    "1. 스켈레톤 코드를 살펴보세요.\n",
    "\n",
    "2. `N`을 10배씩 증가할 때 파이 값이 어떻게 변경되는지 확인해보세요."
   ]
  },
  {
   "cell_type": "code",
   "execution_count": null,
   "id": "662aeffa",
   "metadata": {},
   "outputs": [],
   "source": [
    "import matplotlib as mpl\n",
    "mpl.use(\"Agg\")\n",
    "import matplotlib.pyplot as plt\n",
    "import numpy as np\n",
    "\n",
    "import elice_utils\n",
    "\n",
    "def main():\n",
    "    plt.figure(figsize=(5,5))\n",
    "    \n",
    "    X = []\n",
    "    Y = []\n",
    "    \n",
    "    # N을 10배씩 증가할 때 파이 값이 어떻게 변경되는지 확인해보세요.\n",
    "    N = 10000\n",
    "    \n",
    "    for i in range(N):\n",
    "        X.append(np.random.rand() * 2 - 1)\n",
    "        Y.append(np.random.rand() * 2 - 1)\n",
    "    X = np.array(X)\n",
    "    Y = np.array(Y)\n",
    "    distance_from_zero = np.sqrt(X * X + Y * Y)\n",
    "    is_inside_circle = distance_from_zero <= 1\n",
    "    \n",
    "    print(\"Estimated pi = %f\" % (np.average(is_inside_circle) * 4))\n",
    "    \n",
    "    plt.scatter(X, Y, c=is_inside_circle)\n",
    "    plt.savefig('circle.png')\n",
    "    elice_utils.send_image('circle.png')\n",
    "\n",
    "if __name__ == \"__main__\":\n",
    "    main()"
   ]
  }
 ],
 "metadata": {
  "kernelspec": {
   "display_name": "Python 3 (ipykernel)",
   "language": "python",
   "name": "python3"
  },
  "language_info": {
   "codemirror_mode": {
    "name": "ipython",
    "version": 3
   },
   "file_extension": ".py",
   "mimetype": "text/x-python",
   "name": "python",
   "nbconvert_exporter": "python",
   "pygments_lexer": "ipython3",
   "version": "3.9.5"
  }
 },
 "nbformat": 4,
 "nbformat_minor": 5
}
