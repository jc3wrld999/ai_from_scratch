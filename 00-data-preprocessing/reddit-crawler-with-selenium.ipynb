{
 "cells": [
  {
   "cell_type": "code",
   "execution_count": 1,
   "id": "55242067",
   "metadata": {},
   "outputs": [],
   "source": [
    "import requests\n",
    "import bs4\n",
    "import pandas as pd\n",
    "from selenium.webdriver import Chrome\n",
    "from selenium.webdriver.common.by import By\n",
    "import time\n",
    "from tqdm.notebook import tqdm\n",
    "import warnings\n",
    "warnings.simplefilter('ignore')"
   ]
  },
  {
   "cell_type": "code",
   "execution_count": null,
   "id": "13136ab7",
   "metadata": {},
   "outputs": [],
   "source": [
    "\n",
    "driver = Chrome('./chromedriver')\n",
    "subreddits = ['datascience', 'hacking', 'Hiphopcirclejerk']\n",
    "for subreddit in subreddits:  # 5페이지\n",
    "    page_url = f\"https://www.reddit.com/r/{subreddit}/top/\"\n",
    "    driver.get(page_url)\n",
    "    time.sleep(1)\n",
    "    \n",
    "    for scroll_down in range(5): # 스크롤\n",
    "        driver.execute_script('window.scrollTo(0, document.body.scrollHeight)') # 자바스크립트 쿼리\n",
    "        time.sleep(0.5)\n",
    "    \n",
    "    list_basis = driver.find_element(By.CLASS_NAME, 'rpBJOHq2PR60pnwJlUyP0')\n",
    "    item_list = list_basis.find_elements(By.CLASS_NAME, '_1poyrkZ7g36PawDueRza-J')\n",
    "    \n",
    "    items = []\n",
    "    for i in tqdm(range(len(item_list))):\n",
    "        item = item_list[i]\n",
    "        \n",
    "        # title y8HYJ-y_lTUHkQIc1mdCq"
   ]
  }
 ],
 "metadata": {
  "kernelspec": {
   "display_name": "Python 3 (ipykernel)",
   "language": "python",
   "name": "python3"
  },
  "language_info": {
   "codemirror_mode": {
    "name": "ipython",
    "version": 3
   },
   "file_extension": ".py",
   "mimetype": "text/x-python",
   "name": "python",
   "nbconvert_exporter": "python",
   "pygments_lexer": "ipython3",
   "version": "3.9.5"
  }
 },
 "nbformat": 4,
 "nbformat_minor": 5
}
