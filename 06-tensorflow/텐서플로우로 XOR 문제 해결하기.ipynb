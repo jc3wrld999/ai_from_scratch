{
 "cells": [
  {
   "cell_type": "markdown",
   "id": "41aad2f9",
   "metadata": {},
   "source": []
  },
  {
   "cell_type": "code",
   "execution_count": null,
   "id": "502a49f9",
   "metadata": {},
   "outputs": [],
   "source": [
    "import numpy as np\n",
    "import tensorflow as tf\n",
    "from tensorflow.keras import layers\n",
    "import os\n",
    "os.environ['TF_CPP_MIN_LOG_LEVEL'] = '2'\n",
    "\n",
    "def main():\n",
    "    \n",
    "    # XOR 문제를 위한 데이터 생성\n",
    "    \n",
    "    training_data = np.array([[0,0],[0,1],[1,0],[1,1]], \"float32\")\n",
    "    target_data = np.array([[0],[1],[1],[0]], \"float32\")\n",
    "    \n",
    "    '''\n",
    "    1. 다층 퍼셉트론 모델을 생성합니다. 이번엔 tf.keras.models.Sequential()를 model이라는 변수로 선언하고, add메소드를 사용해서 Sequential 모델을 만들어 봅시다.\n",
    "\n",
    "레이어의 개수나 레이어 내부의 노드 수를 자유롭게 설정해서 최종 정확도 100%가 되도록 해봅시다.\n",
    "\n",
    "단, 중간층(히든층)의 활성화 함수는 relu, 출력층의 활성화 함수는 sigmoid로 고정하고 모델을 만들도록 합니다.\n",
    "    '''\n",
    "    \n",
    "    model = tf.keras.Sequential()\n",
    "    model.add(tf.keras.layers.Dense(16, input_dim=2, activation='relu'))\n",
    "    model.add(tf.keras.layers.Dense(16, activation='relu'))\n",
    "    model.add(tf.keras.layers.Dense(1, activation='sigmoid'))\n",
    "    \n",
    "    '''\n",
    "    2. 모델의 손실 함수, 최적화 방법, 평가 방법을 설정합니다. 모델을 학습시킬 손실 함수(loss function) 계산 방법과 최적화(optimize) 방법, 성능 측정 방법(metrics)을 다음과 같이 설정합니다.\n",
    "\n",
    "손실함수(loss) : ‘mse’ (‘mean_squared_error’와 같습니다)\n",
    "\n",
    "최적화 방법(optimizer) : ‘adam’\n",
    "\n",
    "평가 방법(metrics): [‘binary_accuracy’] (이진 분류 모델의 정확도를 위한 평가 방법입니다)\n",
    "    '''\n",
    "    \n",
    "    model.compile(loss='mse',  optimizer='adam', metrics=['binary_accuracy'])\n",
    "    \n",
    "    '''\n",
    "    3. 모델을 학습시킵니다. epochs를 자유롭게 설정해보세요.\n",
    "    ''' \n",
    "    \n",
    "    hist = model.fit(training_data, target_data, epochs=30, verbose=2)\n",
    "    \n",
    "    score = hist.history['binary_accuracy'][-1]\n",
    "    \n",
    "    print('최종 정확도: ', score*100, '%')\n",
    "    \n",
    "    return hist\n",
    "\n",
    "if __name__ == \"__main__\":\n",
    "    main()"
   ]
  }
 ],
 "metadata": {
  "kernelspec": {
   "display_name": "Python 3 (ipykernel)",
   "language": "python",
   "name": "python3"
  },
  "language_info": {
   "codemirror_mode": {
    "name": "ipython",
    "version": 3
   },
   "file_extension": ".py",
   "mimetype": "text/x-python",
   "name": "python",
   "nbconvert_exporter": "python",
   "pygments_lexer": "ipython3",
   "version": "3.9.5"
  }
 },
 "nbformat": 4,
 "nbformat_minor": 5
}
