{
 "cells": [
  {
   "cell_type": "code",
   "execution_count": null,
   "id": "73236899",
   "metadata": {},
   "outputs": [],
   "source": [
    "import tensorflow as tf\n",
    "import numpy as np\n",
    "from visual import *\n",
    "\n",
    "import os\n",
    "os.environ['TF_CPP_MIN_LOG_LEVEL'] = '2'\n",
    "\n",
    "np.random.seed(100)\n",
    "tf.random.set_seed(100)\n",
    "\n",
    "def main():\n",
    "    \n",
    "    # 비선형 데이터 생성\n",
    "    \n",
    "    x_data = np.linspace(0, 10, 100)\n",
    "    y_data = 1.5 * x_data**2 -12 * x_data + np.random.randn(*x_data.shape)*2 + 0.5\n",
    "    \n",
    "    '''\n",
    "    1. 다층 퍼셉트론 모델을 만듭니다.\n",
    "    '''\n",
    "    \n",
    "    model = tf.keras.models.Sequential([\n",
    "        tf.keras.layers.Dense(20, input_dim = 1 ,activation='relu'),\n",
    "        tf.keras.layers.Dense(20, activation='relu'),\n",
    "        tf.keras.layers.Dense(1)\n",
    "    ])\n",
    "    \n",
    "    '''\n",
    "    2. 모델 학습 방법을 설정합니다.\n",
    "    '''\n",
    "    \n",
    "    model.compile(loss='mean_squared_error', optimizer='adam')\n",
    "    \n",
    "    '''\n",
    "    3. 모델을 학습시킵니다.\n",
    "    ''' \n",
    "    \n",
    "    history = model.fit(x_data, y_data, epochs=500, verbose=2)\n",
    "    \n",
    "    '''\n",
    "    4. 학습된 모델을 사용하여 예측값 생성 및 저장\n",
    "    '''\n",
    "    \n",
    "    predictions = model.predict(x_data)\n",
    "    \n",
    "    Visualize(x_data, y_data, predictions)\n",
    "    \n",
    "    return history, model\n",
    "\n",
    "if __name__ == '__main__':\n",
    "    main()"
   ]
  }
 ],
 "metadata": {
  "kernelspec": {
   "display_name": "Python 3 (ipykernel)",
   "language": "python",
   "name": "python3"
  },
  "language_info": {
   "codemirror_mode": {
    "name": "ipython",
    "version": 3
   },
   "file_extension": ".py",
   "mimetype": "text/x-python",
   "name": "python",
   "nbconvert_exporter": "python",
   "pygments_lexer": "ipython3",
   "version": "3.9.5"
  }
 },
 "nbformat": 4,
 "nbformat_minor": 5
}
