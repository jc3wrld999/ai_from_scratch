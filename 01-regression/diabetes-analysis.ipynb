{
 "cells": [
  {
   "cell_type": "code",
   "execution_count": 22,
   "id": "e4d1c2ca",
   "metadata": {},
   "outputs": [],
   "source": [
    "import pandas as pd\n",
    "import matplotlib.pyplot as plt\n",
    "from sklearn.datasets import load_diabetes\n",
    "from sklearn.model_selection import train_test_split\n",
    "from sklearn.linear_model import LinearRegression\n",
    "from sklearn.linear_model import Ridge\n",
    "from sklearn.linear_model import Lasso\n",
    "from sklearn.linear_model import ElasticNet\n",
    "from sklearn.metrics import r2_score\n",
    "\n",
    "def load_data():\n",
    "\n",
    "    X, y = load_diabetes(return_X_y=True)\n",
    "\n",
    "    train_X, test_X, train_y, test_y = train_test_split(X, y, test_size=0.2, random_state=100)\n",
    "    \n",
    "    return train_X, train_y, test_X, test_y\n",
    "    \n",
    "def reg_model(train_X, test_X, train_y):\n",
    "    \n",
    "    # lr = LinearRegression() # 0.5041759376283346\n",
    "    lr = ElasticNet(alpha=0.00045, l1_ratio=0.00001) # 0.5116540160957965\n",
    "    # lr = Lasso(0.01) # 0.5047102764323668\n",
    "    # lr = Ridge(0.2) # 0.5107921148763069\n",
    "    \n",
    "    lr.fit(train_X, train_y)\n",
    "    \n",
    "    pred = lr.predict(test_X)\n",
    "\n",
    "    return pred\n",
    "    \n",
    "def r_square(pred, test_y):\n",
    "    \n",
    "    r2 = r2_score(test_y, predicted)\n",
    "    \n",
    "    return r2"
   ]
  },
  {
   "cell_type": "code",
   "execution_count": 21,
   "id": "9d40ed4a",
   "metadata": {},
   "outputs": [
    {
     "name": "stdout",
     "output_type": "stream",
     "text": [
      "r2 score :  0.5116528549361277\n"
     ]
    }
   ],
   "source": [
    "train_X, train_y, test_X, test_y = load_data()\n",
    "\n",
    "predicted = reg_model(train_X, test_X, train_y)\n",
    "\n",
    "r2  = r2_score(test_y, predicted)\n",
    "\n",
    "print(\"r2 score : \",r2)"
   ]
  }
 ],
 "metadata": {
  "kernelspec": {
   "display_name": "Python 3 (ipykernel)",
   "language": "python",
   "name": "python3"
  },
  "language_info": {
   "codemirror_mode": {
    "name": "ipython",
    "version": 3
   },
   "file_extension": ".py",
   "mimetype": "text/x-python",
   "name": "python",
   "nbconvert_exporter": "python",
   "pygments_lexer": "ipython3",
   "version": "3.9.5"
  }
 },
 "nbformat": 4,
 "nbformat_minor": 5
}
