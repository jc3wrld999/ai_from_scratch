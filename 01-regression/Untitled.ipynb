{
 "cells": [
  {
   "cell_type": "markdown",
   "id": "5e43bbd7",
   "metadata": {},
   "source": [
    "## 데이터를 가장 잘 설명하는 선 찾기"
   ]
  },
  {
   "cell_type": "code",
   "execution_count": 11,
   "id": "c11c3074",
   "metadata": {},
   "outputs": [
    {
     "name": "stderr",
     "output_type": "stream",
     "text": [
      "C:\\Users\\csjty\\AppData\\Local\\Temp\\ipykernel_32100\\3904969571.py:26: UserWarning: Matplotlib is currently using agg, which is a non-GUI backend, so cannot show the figure.\n",
      "  plt.show()\n"
     ]
    }
   ],
   "source": [
    "# 실습에 필요한 패키지입니다. 수정하지 마세요.\n",
    "import matplotlib as mpl\n",
    "mpl.use(\"Agg\")\n",
    "import matplotlib.pyplot as plt\n",
    "import numpy as np\n",
    "\n",
    "# 실습에 필요한 데이터입니다. 수정하지마세요. \n",
    "X = [8.70153760, 3.90825773, 1.89362433, 3.28730045, 7.39333004, 2.98984649, 2.25757240, 9.84450732, 9.94589513, 5.48321616]\n",
    "Y = [5.64413093, 3.75876583, 3.87233310, 4.40990425, 6.43845020, 4.02827829, 2.26105955, 7.15768995, 6.29097441, 5.19692852]\n",
    "\n",
    "'''\n",
    "beta_0과 beta_1 을 변경하면서 그래프에 표시되는 선을 확인해 봅니다.\n",
    "기울기와 절편의 의미를 이해합니다.\n",
    "'''\n",
    "\n",
    "beta_0 = 0.5   # beta_0에 저장된 기울기 값을 조정해보세요. \n",
    "beta_1 = 2 # beta_1에 저장된 절편 값을 조정해보세요.\n",
    "\n",
    "plt.scatter(X, Y) # (x, y) 점을 그립니다.\n",
    "plt.plot([0, 10], [beta_1, 10 * beta_0 + beta_1], c='r') # y = beta_0 * x + beta_1 에 해당하는 선을 그립니다.\n",
    "\n",
    "plt.xlim(0, 10) # 그래프의 X축을 설정합니다.\n",
    "plt.ylim(0, 10) # 그래프의 Y축을 설정합니다.\n",
    "\n",
    "plt.savefig(\"mygraph.png\")"
   ]
  }
 ],
 "metadata": {
  "kernelspec": {
   "display_name": "Python 3 (ipykernel)",
   "language": "python",
   "name": "python3"
  },
  "language_info": {
   "codemirror_mode": {
    "name": "ipython",
    "version": 3
   },
   "file_extension": ".py",
   "mimetype": "text/x-python",
   "name": "python",
   "nbconvert_exporter": "python",
   "pygments_lexer": "ipython3",
   "version": "3.9.5"
  }
 },
 "nbformat": 4,
 "nbformat_minor": 5
}
