{
 "cells": [
  {
   "cell_type": "code",
   "execution_count": null,
   "id": "da4d5104",
   "metadata": {},
   "outputs": [],
   "source": [
    "import numpy as np\n",
    "\n",
    "def main():\n",
    "    print(matrix_tutorial())\n",
    "\n",
    "def matrix_tutorial():\n",
    "    A = np.array([[1,4,5,8], [2,1,7,3], [5,4,5,9]])\n",
    "\n",
    "    # A 원소의 합이 1이 되도록 표준화(Normalization)를 적용하고 결괏값을 A에 다시 저장하세요. 예를 들어, [42,58] 에 표준화를 적용하면 [0.42,0.58] 이 됩니다.\n",
    "    # matrix_tutorial() 함수가 A의 분산(Variance)값을 리턴하도록 코드를 작성하세요.\n",
    "    normalized_A = A / np.sum(A)\n",
    "    A = np.var(normalized_A)\n",
    "    print(normalized_A)\n",
    "    print(np.median(A))\n",
    "    print(np.std(A))\n",
    "    print(np.var(A))\n",
    "    return A\n",
    "\n",
    "if __name__ == \"__main__\":\n",
    "    main()"
   ]
  }
 ],
 "metadata": {
  "kernelspec": {
   "display_name": "Python 3 (ipykernel)",
   "language": "python",
   "name": "python3"
  },
  "language_info": {
   "codemirror_mode": {
    "name": "ipython",
    "version": 3
   },
   "file_extension": ".py",
   "mimetype": "text/x-python",
   "name": "python",
   "nbconvert_exporter": "python",
   "pygments_lexer": "ipython3",
   "version": "3.9.5"
  }
 },
 "nbformat": 4,
 "nbformat_minor": 5
}
