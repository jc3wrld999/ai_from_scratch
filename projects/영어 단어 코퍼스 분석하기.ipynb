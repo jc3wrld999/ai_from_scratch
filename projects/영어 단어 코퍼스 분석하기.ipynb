{
 "cells": [
  {
   "cell_type": "markdown",
   "id": "8bdfd984",
   "metadata": {},
   "source": [
    "## 영어 단어 코퍼스 분석하기"
   ]
  },
  {
   "cell_type": "code",
   "execution_count": 3,
   "id": "717777ea",
   "metadata": {},
   "outputs": [
    {
     "ename": "NameError",
     "evalue": "name '____________' is not defined",
     "output_type": "error",
     "traceback": [
      "\u001b[1;31m---------------------------------------------------------------------------\u001b[0m",
      "\u001b[1;31mNameError\u001b[0m                                 Traceback (most recent call last)",
      "Cell \u001b[1;32mIn [3], line 70\u001b[0m\n\u001b[0;32m     67\u001b[0m     plt\u001b[38;5;241m.\u001b[39msavefig(\u001b[38;5;124m'\u001b[39m\u001b[38;5;124mchart.png\u001b[39m\u001b[38;5;124m'\u001b[39m)\n\u001b[0;32m     69\u001b[0m \u001b[38;5;28;01mif\u001b[39;00m \u001b[38;5;18m__name__\u001b[39m \u001b[38;5;241m==\u001b[39m \u001b[38;5;124m\"\u001b[39m\u001b[38;5;124m__main__\u001b[39m\u001b[38;5;124m\"\u001b[39m:\n\u001b[1;32m---> 70\u001b[0m     \u001b[43mmain\u001b[49m\u001b[43m(\u001b[49m\u001b[43m)\u001b[49m\n",
      "Cell \u001b[1;32mIn [3], line 12\u001b[0m, in \u001b[0;36mmain\u001b[1;34m()\u001b[0m\n\u001b[0;32m     10\u001b[0m \u001b[38;5;28;01mdef\u001b[39;00m \u001b[38;5;21mmain\u001b[39m():\n\u001b[0;32m     11\u001b[0m     words \u001b[38;5;241m=\u001b[39m read_data()\n\u001b[1;32m---> 12\u001b[0m     words \u001b[38;5;241m=\u001b[39m \u001b[38;5;28msorted\u001b[39m(\u001b[43m____________\u001b[49m) \u001b[38;5;66;03m# words.txt 단어를 빈도수 순으로 정렬합니다.\u001b[39;00m\n\u001b[0;32m     14\u001b[0m     \u001b[38;5;66;03m# 정수로 표현된 단어를 X축 리스트에, 각 단어의 빈도수를 Y축 리스트에 저장합니다.  \u001b[39;00m\n\u001b[0;32m     15\u001b[0m     X \u001b[38;5;241m=\u001b[39m \u001b[38;5;28mlist\u001b[39m(\u001b[38;5;28mrange\u001b[39m(\u001b[38;5;241m1\u001b[39m, \u001b[38;5;28mlen\u001b[39m(words)\u001b[38;5;241m+\u001b[39m\u001b[38;5;241m1\u001b[39m))\n",
      "\u001b[1;31mNameError\u001b[0m: name '____________' is not defined"
     ]
    }
   ],
   "source": [
    "import operator\n",
    "from sklearn.linear_model import LinearRegression\n",
    "import numpy as np\n",
    "import matplotlib\n",
    "matplotlib.use('Agg')\n",
    "import matplotlib.pyplot as plt\n",
    "import pandas as pd\n",
    "\n",
    "\n",
    "def main():\n",
    "    words = read_data()\n",
    "    words = sorted(____________) # words.txt 단어를 빈도수 순으로 정렬합니다.\n",
    "    \n",
    "    # 정수로 표현된 단어를 X축 리스트에, 각 단어의 빈도수를 Y축 리스트에 저장합니다.  \n",
    "    X = list(range(1, len(words)+1))\n",
    "    Y = [x[1] for x in words]\n",
    "    \n",
    "    # X, Y 리스트를 array로 변환합니다. \n",
    "    X, Y = np.array(X).reshape(-1,1), np.array(Y)\n",
    "    \n",
    "    # X, Y의 각 원소 값에 log()를 적용합니다.\n",
    "    # X, Y = np.log(X), np.log(Y)\n",
    "    \n",
    "    # 기울기와 절편을 구한 후 그래프와 차트를 출력합니다. \n",
    "    slope, intercept = do_linear_regression(X, Y)\n",
    "    draw_chart(X, Y, slope, intercept)\n",
    "    \n",
    "    return slope, intercept\n",
    "\n",
    "\n",
    "# read_data() - words.txt에 저장된 단어와 해당 단어의 빈도수를 리스트형으로 변환합니다.\n",
    "def read_data():\n",
    "    # words.txt 에서 단어들를 읽어, \n",
    "    # [[단어1, 빈도수], [단어2, 빈도수] ... ]형으로 변환해 리턴합니다.\n",
    "    \n",
    "    words = []\n",
    "    pd.read_table('./words.txt', sep=',')\n",
    "    return words\n",
    "\n",
    "\n",
    "# do_linear_regression() - 임포트한 sklearn 패키지의 함수를 이용해 그래프의 기울기와 절편을 구합니다.\n",
    "def do_linear_regression(X, Y):\n",
    "    # do_linear_regression() 함수를 작성하세요. \n",
    "\n",
    "    return (slope, intercept)\n",
    "\n",
    "\n",
    "# draw_chart() - matplotlib을 이용해 차트를 설정합니다.\n",
    "def draw_chart(X, Y, slope, intercept):\n",
    "    fig = plt.figure()\n",
    "    ax = fig.add_subplot(111)\n",
    "    plt.scatter(X, Y)\n",
    "\n",
    "    # 차트의 X, Y축 범위와 그래프를 설정합니다.\n",
    "    min_X = min(X)\n",
    "    max_X = max(X)\n",
    "    min_Y = min_X * slope + intercept\n",
    "    max_Y = max_X * slope + intercept\n",
    "    plt.plot([min_X, max_X], [min_Y, max_Y], \n",
    "             color='red',\n",
    "             linestyle='--',\n",
    "             linewidth=3.0)\n",
    "    \n",
    "    # 기울과와 절편을 이용해 그래프를 차트에 입력합니다.\n",
    "    ax.text(min_X, min_Y + 0.1, r'$y = %.2lfx + %.2lf$' % (slope, intercept), fontsize=15)\n",
    "    \n",
    "    plt.savefig('chart.png')\n",
    "\n",
    "if __name__ == \"__main__\":\n",
    "    main()"
   ]
  },
  {
   "cell_type": "code",
   "execution_count": 21,
   "id": "cfaccac8",
   "metadata": {},
   "outputs": [
    {
     "data": {
      "text/plain": [
       "array([['z', '7'],\n",
       "       ['z', '1'],\n",
       "       ['z', '2'],\n",
       "       ...,\n",
       "       ['&', '6'],\n",
       "       ['&', '1'],\n",
       "       ['&', '6']], dtype='<U1')"
      ]
     },
     "execution_count": 21,
     "metadata": {},
     "output_type": "execute_result"
    }
   ],
   "source": [
    "\n",
    "# words = pd.read_table('./words.txt', sep=',')\n",
    "np.loadtxt('words.txt', delimiter=',', dtype=('str', 'int'))"
   ]
  }
 ],
 "metadata": {
  "kernelspec": {
   "display_name": "Python 3 (ipykernel)",
   "language": "python",
   "name": "python3"
  },
  "language_info": {
   "codemirror_mode": {
    "name": "ipython",
    "version": 3
   },
   "file_extension": ".py",
   "mimetype": "text/x-python",
   "name": "python",
   "nbconvert_exporter": "python",
   "pygments_lexer": "ipython3",
   "version": "3.9.5"
  }
 },
 "nbformat": 4,
 "nbformat_minor": 5
}
