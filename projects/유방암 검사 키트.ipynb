{
 "cells": [
  {
   "cell_type": "markdown",
   "id": "5f9119f6",
   "metadata": {},
   "source": [
    "## 유방암 검사 키트\n",
    "\n",
    "- 40대 여성이 mammogram(X-ray) 검사를 통해 유방암 양성 의심 판정을 받았을 때 유방암을 실제로 가지고 있을 확률은 어떻게 될까요?\n",
    "- mammogram_test() 함수를 구현하며 베이즈 법칙을 직접 응용해보겠습니다. mammogram_test() 함수는 세 가지 숫자를 입력 받습니다\n",
    "    - sensitivity - 검사의 민감성을 뜻합니다. 유방암 보유자를 대상으로 검사 결과가 양성으로 표시될 확률로 0과 1 사이의 값을 가짐\n",
    "    - prior_prob - 총 인구를 기준으로 유방암을 가지고 있을 사전 확률(prior probability)로 0.004 정도로 매우 낮은 값\n",
    "    - false_alarm - 실제로는 암을 갖고 있지 않지만 유방암이라고 진단될 확률로 0.1정도로 생각보다 높은 값\n",
    "    \n",
    "나이브 법칙을 이용해 입력 받은 세 값을 바탕으로 유방암 보유 여부를 확률로 출력합니다. \n",
    "```\n",
    ">>> 0.8\n",
    ">>> 0.004\n",
    ">>> 0.1\n",
    "3.11%\n",
    "```\n",
    "\n",
    "\n",
    "### 실습\n",
    "\n",
    "1. $A=1$ 은 Mammogram 검사를 통해 암으로 진단되는 경우, $B = 1$ 은 실제로 유방암을 가지고 있는 경우입니다.\n",
    "\n",
    "1. `sensitivity`는 $P(A=1|B=1)$로 표현할 수 있습니다. 암을 실제로 가지고 있을 때 암으로 진단될 확률이 80%라면 $P(A=1|B=1) = 0.8$입니다.\n",
    "\n",
    "1. 일반적으로 유방암을 가지고 있을 확률은, 즉 `prior_prob`의 값은 매우 낮습니다: $P(B=1) = 0.004$\n",
    "\n",
    "1. 유방암을 가지고 있지 않을 확률은 1에서 `prior_prob`를 빼면 됩니다: $P(B=0)=1 - P(B=1)=0.996$\n",
    "\n",
    "1. 실제로 암을 가지고 있지 않지만 암으로 진단되는 확률, `false_alarm`는 생각보다 매우 높습니다: $P(A=1|B=0)=0.1$\n",
    "\n",
    "1. Mammogram 검사를 통해 암으로 진단되는 경우의 확률, $P(A=1)$를 구해보겠습니다: $P(A=1) =$ $P(A=1|B=0)P(B=0) +$ $P(A=1|B=1)P(B=1) = $ $0.1 \\times 0.996 + 0.8 \\times 0.004 = $ $0.1028$.\n",
    "\n",
    "1. 유방암 진단을 받았을 때 실제로 유방암을 가지고 있을 확률을 베이즈 법칙을 이용해 계산하면 다음과 같습니다: $\\displaystyle P(B=1|A=1) =$ $\\displaystyle \\frac{P(A=1|B=1)P(B=1)}{P(A=1)} =$ $\\displaystyle \\frac{0.8 \\times 0.004}{0.1028} \\sim $ $0.0311$."
   ]
  },
  {
   "cell_type": "code",
   "execution_count": 9,
   "id": "5829163e",
   "metadata": {},
   "outputs": [
    {
     "name": "stdout",
     "output_type": "stream",
     "text": [
      "P(A=1|B=1)=0.8\n",
      "P(B=1)=0.004\n",
      "P(B=0)=0.996\n",
      "P(A=1|B=0)=0.1\n",
      "𝑃(𝐴=1)=0.1028\n",
      "𝑃(𝐵=1|𝐴=1)=0.0311284046692607\n",
      "3.11%\n"
     ]
    }
   ],
   "source": [
    "def main():\n",
    "#     sensitivity = float(input())\n",
    "#     prior_prob = float(input())\n",
    "#     false_alarm = float(input())\n",
    "    sensitivity = 0.8\n",
    "    prior_prob = 0.004\n",
    "    false_alarm = 0.1\n",
    "    print(\"%.2lf%%\" % (100 * mammogram_test(sensitivity, prior_prob, false_alarm)))\n",
    "\n",
    "def mammogram_test(sensitivity, prior_prob, false_alarm):\n",
    "    # A=1은 Mammogram 검사를 통해 암으로 진단되는 경우, B = 1 은 실제로 유방암을 가지고 있는 경우\n",
    "    \n",
    "    # `sensitivity`는 $P(A=1|B=1)$로 표현할 수 있다. 암을 실제로 가지고 있을 때 암으로 진단될 확률이 80%라면 P(A=1|B=1) = 0.8\n",
    "    p_a1_b1 = sensitivity # p(A = 1 | B = 1)\n",
    "    print(f'P(A=1|B=1)={p_a1_b1}')\n",
    "    # 일반적으로 유방암을 가지고 있을 확률은, 즉 `prior_prob`의 값은 매우 낮다: P(B=1) = 0.004\n",
    "    p_b1 = prior_prob    # p(B = 1)\n",
    "    print(f'P(B=1)={p_b1}')\n",
    "    # 유방암을 가지고 있지 않을 확률은 1에서 `prior_prob`를 빼면 된다: P(B=0)=1 - P(B=1)=0.996\n",
    "    p_b0 = 1 - p_b1    # p(B = 0)\n",
    "    print(f'P(B=0)={p_b0}')\n",
    "    # 실제로 암을 가지고 있지 않지만 암으로 진단되는 확률, `false_alarm`는 생각보다 매우 높다: P(A=1|B=0)=0.1\n",
    "    p_a1_b0 = false_alarm # p(A = 1|B = 0)\n",
    "    print(f'P(A=1|B=0)={p_a1_b0}')\n",
    "    \n",
    "    # Mammogram 검사를 통해 암으로 진단되는 경우의 확률, 𝑃(𝐴=1)\n",
    "    # 𝑃(𝐴=1)=𝑃(𝐴=1|𝐵=0)𝑃(𝐵=0)+𝑃(𝐴=1|𝐵=1)𝑃(𝐵=1)=0.1×0.996+0.8×0.004=0.1028\n",
    "    p_a1 =  p_a1_b0 * p_b0 + p_a1_b1 * p_b1   # p(A = 1)\n",
    "    print(f'𝑃(𝐴=1)={p_a1}')\n",
    "\n",
    "    # 유방암 진단을 받았을 때 실제로 유방암을 가지고 있을 확률\n",
    "    # 𝑃(𝐵=1|𝐴=1)=𝑃(𝐴=1|𝐵=1)𝑃(𝐵=1)𝑃(𝐴=1)=0.8×0.0040.1028∼0.0311\n",
    "    p_b1_a1 = p_a1_b1 * p_b1 / p_a1 # p(B = 1|A = 1)\n",
    "    print(f'𝑃(𝐵=1|𝐴=1)={p_b1_a1}')\n",
    "\n",
    "    return p_b1_a1\n",
    "\n",
    "if __name__ == \"__main__\":\n",
    "    main()\n"
   ]
  }
 ],
 "metadata": {
  "kernelspec": {
   "display_name": "Python 3 (ipykernel)",
   "language": "python",
   "name": "python3"
  },
  "language_info": {
   "codemirror_mode": {
    "name": "ipython",
    "version": 3
   },
   "file_extension": ".py",
   "mimetype": "text/x-python",
   "name": "python",
   "nbconvert_exporter": "python",
   "pygments_lexer": "ipython3",
   "version": "3.9.5"
  }
 },
 "nbformat": 4,
 "nbformat_minor": 5
}
