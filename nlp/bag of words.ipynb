{
 "cells": [
  {
   "cell_type": "markdown",
   "id": "d2058dd0",
   "metadata": {},
   "source": []
  },
  {
   "cell_type": "code",
   "execution_count": 4,
   "id": "767ac537",
   "metadata": {},
   "outputs": [
    {
     "name": "stdout",
     "output_type": "stream",
     "text": [
      "{'bag': 1, 'of': 1, 'words': 1, '모델을': 1, 'python으로': 1, '직접': 1, '구현하겠습니다': 1}\n"
     ]
    }
   ],
   "source": [
    "import re\n",
    "\n",
    "special_chars_remover = re.compile(\"[^\\w'|_]\")\n",
    "\n",
    "def main():\n",
    "    sentence = \"Bag-of-Words 모델을 Python으로 직접 구현하겠습니다.\"\n",
    "    bow = create_BOW(sentence)\n",
    "\n",
    "    print(bow)\n",
    "\n",
    "\n",
    "def create_BOW(sentence):\n",
    "    bow = {}\n",
    "    tokenized = remove_special_characters(sentence.lower()).split()\n",
    "    filtered_token = [token for token in tokenized if len(token) >= 1]\n",
    "    for token in filtered_token:\n",
    "        if token not in bow:\n",
    "            bow[token] = 1\n",
    "        else:\n",
    "            bow[token] +=1\n",
    "    # bow.setdefault(token, 0)\n",
    "    # bow[token] += 1\n",
    "    return bow\n",
    "\n",
    "\n",
    "def remove_special_characters(sentence):\n",
    "    return special_chars_remover.sub(' ', sentence)\n",
    "\n",
    "\n",
    "if __name__ == \"__main__\":\n",
    "    main()\n"
   ]
  }
 ],
 "metadata": {
  "kernelspec": {
   "display_name": "Python 3 (ipykernel)",
   "language": "python",
   "name": "python3"
  },
  "language_info": {
   "codemirror_mode": {
    "name": "ipython",
    "version": 3
   },
   "file_extension": ".py",
   "mimetype": "text/x-python",
   "name": "python",
   "nbconvert_exporter": "python",
   "pygments_lexer": "ipython3",
   "version": "3.9.5"
  }
 },
 "nbformat": 4,
 "nbformat_minor": 5
}
