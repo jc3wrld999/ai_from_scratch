{
 "cells": [
  {
   "cell_type": "markdown",
   "id": "58a24393",
   "metadata": {},
   "source": [
    "## 임베딩을 통한 문장 유사도 측정 서비스\n",
    "gensim을 사용하여, doc2vec 문서 벡터를 학습하고, 이를 통해서 문서 간 유사도를 계산해 봅니다.\n",
    "\n",
    "- 2vec의 의미는 “의미를 가진 어떤 것”을 “numerical vector”로 표현했다는 것을 의미\n",
    "- doc2vec은 Document 2 Vector를 의미\n",
    "- word2vec과 유사한 방법인 것인데, 여기서 어떻게 임베딩하느냐, 즉, 무엇이 인풋이고, 무엇이 아웃풋인지\n",
    "\n",
    "## Usage\n",
    "\n",
    "- initialize & train a model\n",
    "\n",
    "```python\n",
    "from gensim.test.utils import common_texts\n",
    "from gensim.models.doc2vec import Doc2Vec, TaggedDocument\n",
    "\n",
    "documents = [TaggedDocument(doc, [i]) for i, doc in enumerate(common_texts)]\n",
    "model = Doc2Vec(documents, vector_size=5, window=2, min_count=1, workers=4)\n",
    "```\n",
    "\n",
    "- Persist a model to disk\n",
    "\n",
    "```python\n",
    "from gensim.test.utils import get_tmpfile\n",
    "\n",
    "fname = get_tmpfile(\"my_doc2vec_model\")\n",
    "\n",
    "model.save(fname)\n",
    "model = Doc2Vec.load(fname)\n",
    "```\n",
    "\n",
    "- 새 문서에 대한 추론 벡터\n",
    "\n",
    "```python\n",
    "vector = model.infer_vector([\"system\", \"response\"])\n",
    "```"
   ]
  },
  {
   "cell_type": "code",
   "execution_count": 4,
   "id": "5940cc9a",
   "metadata": {},
   "outputs": [
    {
     "name": "stdout",
     "output_type": "stream",
     "text": [
      "0.24340872\n"
     ]
    }
   ],
   "source": [
    "# -*- coding: utf-8 -*-\n",
    "import random\n",
    "import re\n",
    "from gensim.models.doc2vec import Doc2Vec, TaggedDocument\n",
    "from numpy import sqrt, dot\n",
    "\n",
    "random.seed(10)\n",
    "\n",
    "doc1 = [\"homelessness has been an issue for years but never a plan to help those on the street that were once considered human who did everything from going to school work or vote for the matter\"]\n",
    "\n",
    "doc2 = [\"it may have ends that do not tie together particularly well but it is still a compelling enough story to stick with\"]\n",
    "\n",
    "# 데이터를 불러오는 함수입니다.\n",
    "def load_data(filepath):\n",
    "    regex = re.compile('[^a-z ]')\n",
    "\n",
    "    gensim_input = []\n",
    "    with open(filepath, 'r', encoding='utf8') as f:\n",
    "        for idx, line in enumerate(f):\n",
    "            lowered_sent = line.rstrip().lower()\n",
    "            filtered_sent = regex.sub('', lowered_sent)\n",
    "            tagged_doc = TaggedDocument(filtered_sent, [idx])\n",
    "            gensim_input.append(tagged_doc)\n",
    "            \n",
    "    return gensim_input\n",
    "    \n",
    "def cal_cosine_sim(v1, v2):\n",
    "    # 벡터 간 코사인 유사도를 계산해 주는 함수를 완성합니다.\n",
    "    top = dot(v1, v2)\n",
    "    size1 = sqrt(dot(v1, v1))\n",
    "    size2 = sqrt(dot(v2, v2))\n",
    "    \n",
    "    return top / (size1 *size2)\n",
    "  \n",
    "# doc2vec 모델을 documents 리스트를 이용해 학습하세요.\n",
    "documents = load_data(\"text.txt\")\n",
    "model = Doc2Vec(documents, vector_size=50, window=2, epochs=5,  min_count=1, workers=4)\n",
    "\n",
    "# 학습된 모델을 이용해 doc1과 doc2에 들어있는 문서의 임베딩 벡터를 생성하여 각각 변수 vector1과 vector2에 저장하세요.\n",
    "vector1 = model.infer_vector(doc1)\n",
    "vector2 = model.infer_vector(doc2)\n",
    "\n",
    "# vector1과 vector2의 코사인 유사도를 변수 sim에 저장하세요.\n",
    "sim = cal_cosine_sim(vector1, vector2)\n",
    "# 계산한 코사인 유사도를 확인합니다.\n",
    "print(sim)\n"
   ]
  },
  {
   "cell_type": "markdown",
   "id": "1f8722d6",
   "metadata": {},
   "source": [
    "## Reference\n",
    "- [doc2vec 문서](https://radimrehurek.com/gensim/models/doc2vec.html)\n",
    "- [gensim을 이용하여 doc2vec 이용하기](https://frhyme.github.io/python-libs/nlp_doc2vec_gensim/)"
   ]
  }
 ],
 "metadata": {
  "kernelspec": {
   "display_name": "Python 3 (ipykernel)",
   "language": "python",
   "name": "python3"
  },
  "language_info": {
   "codemirror_mode": {
    "name": "ipython",
    "version": 3
   },
   "file_extension": ".py",
   "mimetype": "text/x-python",
   "name": "python",
   "nbconvert_exporter": "python",
   "pygments_lexer": "ipython3",
   "version": "3.9.5"
  }
 },
 "nbformat": 4,
 "nbformat_minor": 5
}
