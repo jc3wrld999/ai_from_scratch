{
 "cells": [
  {
   "cell_type": "markdown",
   "id": "a3154833",
   "metadata": {},
   "source": [
    "## RNN 기반 언어 모델을 통한 간단한 챗봇 서비스 구성\n",
    "\n",
    "미리 학습된 RNN 기반의 언어 모델을 불러와서 문장 생성을 진행하겠습니다.\n",
    "\n",
    "본 언어 모델은 셰익스피어의 작품 내 극중 인물들의 대사로 구성되어 있는 Shakespeare 데이터셋을 사용하여 학습되었습니다.\n"
   ]
  },
  {
   "cell_type": "code",
   "execution_count": 5,
   "id": "9eaa783b",
   "metadata": {},
   "outputs": [
    {
     "ename": "AttributeError",
     "evalue": "'NoneType' object has no attribute 'endswith'",
     "output_type": "error",
     "traceback": [
      "\u001b[1;31m---------------------------------------------------------------------------\u001b[0m",
      "\u001b[1;31mAttributeError\u001b[0m                            Traceback (most recent call last)",
      "Cell \u001b[1;32mIn [5], line 50\u001b[0m\n\u001b[0;32m     47\u001b[0m model \u001b[38;5;241m=\u001b[39m build_model(\u001b[38;5;241m65\u001b[39m, \u001b[38;5;241m256\u001b[39m, \u001b[38;5;241m1024\u001b[39m, batch_size\u001b[38;5;241m=\u001b[39m\u001b[38;5;241m1\u001b[39m)\n\u001b[0;32m     49\u001b[0m \u001b[38;5;66;03m# model.load_weights()을 이용해 데이터를 불러오세요.\u001b[39;00m\n\u001b[1;32m---> 50\u001b[0m \u001b[43mmodel\u001b[49m\u001b[38;5;241;43m.\u001b[39;49m\u001b[43mload_weights\u001b[49m\u001b[43m(\u001b[49m\u001b[43mtf\u001b[49m\u001b[38;5;241;43m.\u001b[39;49m\u001b[43mtrain\u001b[49m\u001b[38;5;241;43m.\u001b[39;49m\u001b[43mlatest_checkpoint\u001b[49m\u001b[43m(\u001b[49m\u001b[38;5;124;43m\"\u001b[39;49m\u001b[38;5;124;43m./checkpoints/checkpoints_checkpoint\u001b[39;49m\u001b[38;5;124;43m\"\u001b[39;49m\u001b[43m)\u001b[49m\u001b[43m)\u001b[49m\n\u001b[0;32m     53\u001b[0m model\u001b[38;5;241m.\u001b[39mbuild()\n\u001b[0;32m     55\u001b[0m \u001b[38;5;66;03m# char2idx, idx2char는 주어진 문자별 정수 인덱스로 매핑하는 딕셔너리\u001b[39;00m\n",
      "File \u001b[1;32mc:\\python39\\lib\\site-packages\\keras\\utils\\traceback_utils.py:70\u001b[0m, in \u001b[0;36mfilter_traceback.<locals>.error_handler\u001b[1;34m(*args, **kwargs)\u001b[0m\n\u001b[0;32m     67\u001b[0m     filtered_tb \u001b[38;5;241m=\u001b[39m _process_traceback_frames(e\u001b[38;5;241m.\u001b[39m__traceback__)\n\u001b[0;32m     68\u001b[0m     \u001b[38;5;66;03m# To get the full stack trace, call:\u001b[39;00m\n\u001b[0;32m     69\u001b[0m     \u001b[38;5;66;03m# `tf.debugging.disable_traceback_filtering()`\u001b[39;00m\n\u001b[1;32m---> 70\u001b[0m     \u001b[38;5;28;01mraise\u001b[39;00m e\u001b[38;5;241m.\u001b[39mwith_traceback(filtered_tb) \u001b[38;5;28;01mfrom\u001b[39;00m \u001b[38;5;28mNone\u001b[39m\n\u001b[0;32m     71\u001b[0m \u001b[38;5;28;01mfinally\u001b[39;00m:\n\u001b[0;32m     72\u001b[0m     \u001b[38;5;28;01mdel\u001b[39;00m filtered_tb\n",
      "File \u001b[1;32mc:\\python39\\lib\\site-packages\\keras\\saving\\saving_utils.py:368\u001b[0m, in \u001b[0;36mis_hdf5_filepath\u001b[1;34m(filepath)\u001b[0m\n\u001b[0;32m    366\u001b[0m \u001b[38;5;28;01mdef\u001b[39;00m \u001b[38;5;21mis_hdf5_filepath\u001b[39m(filepath):\n\u001b[0;32m    367\u001b[0m     \u001b[38;5;28;01mreturn\u001b[39;00m (\n\u001b[1;32m--> 368\u001b[0m         \u001b[43mfilepath\u001b[49m\u001b[38;5;241;43m.\u001b[39;49m\u001b[43mendswith\u001b[49m(\u001b[38;5;124m\"\u001b[39m\u001b[38;5;124m.h5\u001b[39m\u001b[38;5;124m\"\u001b[39m)\n\u001b[0;32m    369\u001b[0m         \u001b[38;5;129;01mor\u001b[39;00m filepath\u001b[38;5;241m.\u001b[39mendswith(\u001b[38;5;124m\"\u001b[39m\u001b[38;5;124m.keras\u001b[39m\u001b[38;5;124m\"\u001b[39m)\n\u001b[0;32m    370\u001b[0m         \u001b[38;5;129;01mor\u001b[39;00m filepath\u001b[38;5;241m.\u001b[39mendswith(\u001b[38;5;124m\"\u001b[39m\u001b[38;5;124m.hdf5\u001b[39m\u001b[38;5;124m\"\u001b[39m)\n\u001b[0;32m    371\u001b[0m     )\n",
      "\u001b[1;31mAttributeError\u001b[0m: 'NoneType' object has no attribute 'endswith'"
     ]
    }
   ],
   "source": [
    "\n",
    "# 경고문을 무시합니다.\n",
    "import warnings\n",
    "warnings.filterwarnings(action='ignore')\n",
    "\n",
    "import pickle\n",
    "import tensorflow as tf\n",
    "import numpy as np\n",
    "\n",
    "\n",
    "# 학습된 모델을 불러오는 함수입니다.\n",
    "def build_model(vocab_size, embedding_dim, rnn_units, batch_size):\n",
    "    model = tf.keras.Sequential([\n",
    "        tf.keras.layers.Embedding(vocab_size, embedding_dim, batch_input_shape=[batch_size, None]),\n",
    "        \n",
    "        # 각 시점별 문자예측을 위한 LSTM 구조입니다.\n",
    "        tf.keras.layers.LSTM(rnn_units,\n",
    "                        return_sequences=True,\n",
    "                        stateful=True,\n",
    "                        recurrent_initializer='glorot_uniform'),\n",
    "        tf.keras.layers.Dense(vocab_size)\n",
    "        ])\n",
    "    return model\n",
    "\n",
    "# 학습된 모델에서 문장을 생성하는 함수입니다.\n",
    "def generate_text(model, start_string):\n",
    "    num_generate = 100\n",
    "\n",
    "    # 예측할 문자 혹은 문자열의 정수형 인덱스로 변환\n",
    "    input_eval = [char2idx[s] for s in start_string]\n",
    "    input_eval = tf.expand_dims(input_eval, 0)\n",
    "    text_generated = []\n",
    "\n",
    "    model.reset_states()\n",
    "\n",
    "    for i in range(num_generate):\n",
    "        predictions = model(input_eval)\n",
    "        predictions = tf.squeeze(predictions, 0)\n",
    "        # 다음 발생확률이 제일 높은 문자로 예측\n",
    "        predicted_id = np.argmax(predictions[-1])\n",
    "        input_eval = tf.expand_dims([predicted_id], 0)\n",
    "        text_generated.append(idx2char[predicted_id])\n",
    "\n",
    "    return (start_string + ''.join(text_generated))\n",
    "\n",
    "# 기존 학습한 모델의 구조를 불러옵니다.\n",
    "# 예측을 위해 batch_size는 1로 조절되었습니다.\n",
    "model = build_model(65, 256, 1024, batch_size=1)\n",
    "\n",
    "# model.load_weights()을 이용해 데이터를 불러오세요.\n",
    "model.load_weights(tf.train.latest_checkpoint(\"./checkpoints/checkpoints_checkpoint\"))\n",
    "\n",
    "\n",
    "model.build()\n",
    "\n",
    "# char2idx, idx2char는 주어진 문자별 정수 인덱스로 매핑하는 딕셔너리\n",
    "with open('word_index.pkl', 'rb') as f:\n",
    "    char2idx, idx2char = pickle.load(f)\n",
    "\n",
    "# \"Juliet: \"이라는 문자열을 추가하여 생성된 문장을 result 변수에 저장하세요.\n",
    "result = generate_text(model, \"Juliet: \")\n",
    "print(result)\n"
   ]
  }
 ],
 "metadata": {
  "kernelspec": {
   "display_name": "Python 3 (ipykernel)",
   "language": "python",
   "name": "python3"
  },
  "language_info": {
   "codemirror_mode": {
    "name": "ipython",
    "version": 3
   },
   "file_extension": ".py",
   "mimetype": "text/x-python",
   "name": "python",
   "nbconvert_exporter": "python",
   "pygments_lexer": "ipython3",
   "version": "3.9.5"
  }
 },
 "nbformat": 4,
 "nbformat_minor": 5
}
