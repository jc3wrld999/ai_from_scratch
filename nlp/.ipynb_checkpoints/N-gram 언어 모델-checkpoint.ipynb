{
 "cells": [
  {
   "cell_type": "markdown",
   "id": "d1410886",
   "metadata": {},
   "source": [
    "## N-gram 언어 모델\n"
   ]
  },
  {
   "cell_type": "code",
   "execution_count": 3,
   "id": "4d67cdd1",
   "metadata": {},
   "outputs": [
    {
     "name": "stdout",
     "output_type": "stream",
     "text": [
      "0.2\n"
     ]
    }
   ],
   "source": [
    "data = ['this is a dog', 'this is a cat', 'this is my horse','my name is elice', 'my name is hank']\n",
    "\n",
    "def count_unigram(docs):\n",
    "    unigram_counter = dict()\n",
    "    # docs에서 발생하는 모든 unigram의 빈도수를 딕셔너리 unigram_counter에 저장하여 반환하세요.\n",
    "    for doc in docs:\n",
    "        for word in doc.split():\n",
    "            \n",
    "            if word in unigram_counter:\n",
    "                unigram_counter[word] +=1\n",
    "            else:\n",
    "                unigram_counter[word] =1\n",
    "                \n",
    "    return unigram_counter\n",
    "\n",
    "def count_bigram(docs):\n",
    "    bigram_counter = dict()\n",
    "  # docs에서 발생하는 모든 bigram의 빈도수를 딕셔너리 bigram_counter에 저장하여 반환하세요.\n",
    "    for doc in docs:\n",
    "        words = doc.split()\n",
    "        for word1, word2 in zip(words, words[1:]):\n",
    "            if (word1, word2) in bigram_counter:\n",
    "                bigram_counter[(word1, word2)] += 1\n",
    "            else:\n",
    "                bigram_counter[(word1, word2)] = 1\n",
    "    return bigram_counter\n",
    "\n",
    "def cal_prob(sent, unigram_counter, bigram_counter):\n",
    "    words = sent.split()\n",
    "    result = 1.0\n",
    "    # sent의 발생 확률을 계산하여 변수 result에 저장 후 반환하세요.\n",
    "    for word1, word2 in zip(words, words[1:]):\n",
    "        top = bigram_counter[(word1, word2)]\n",
    "        bottom = unigram_counter[word1]\n",
    "        result *= float(top/bottom)\n",
    "    return result\n",
    "\n",
    "# 주어진data를 이용해 unigram 빈도수, bigram 빈도수를 구하고 \"this is elice\" 문장의 발생 확률을 계산해봅니다.\n",
    "unigram_counter = count_unigram(data)\n",
    "bigram_counter = count_bigram(data)\n",
    "print(cal_prob(\"this is elice\", unigram_counter, bigram_counter))\n",
    "\n"
   ]
  }
 ],
 "metadata": {
  "kernelspec": {
   "display_name": "Python 3 (ipykernel)",
   "language": "python",
   "name": "python3"
  },
  "language_info": {
   "codemirror_mode": {
    "name": "ipython",
    "version": 3
   },
   "file_extension": ".py",
   "mimetype": "text/x-python",
   "name": "python",
   "nbconvert_exporter": "python",
   "pygments_lexer": "ipython3",
   "version": "3.9.5"
  }
 },
 "nbformat": 4,
 "nbformat_minor": 5
}
