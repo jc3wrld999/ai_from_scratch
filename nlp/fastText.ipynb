{
 "cells": [
  {
   "cell_type": "markdown",
   "id": "37ccb466",
   "metadata": {},
   "source": [
    "## fastText\n",
    "- word2vec은 학습 데이터에 존재한 단어의 벡터를 생성할 수 있기에 미등록 단어 문제(out-of-vocabulary, OOV)가 발생한다.\n",
    "- fastText는 각 단어를 문자 단위로 나누어서 학습한다.(좋아한다 > 좋/아/한/다)\n",
    "- 따라서 학습 데이터에 존재하지 않았던 단어의 임베딩 벡터 또한 생성 가능한다.(좋아한다 + 고 > 좋아한다고)\n",
    "\n",
    "```python\n",
    "from gensim.models import FastText\n",
    "doc = [['서울에', '살고', '있는', '엘리스는', '강아지를', '좋아한다']]\n",
    "\n",
    "ft_model = FastText(min_count=1, window=2, vector_size=300)\n",
    "ft_model.build_vocab(doc)\n",
    "ft_mode.train(doc, total_examples=ft_model.corpus_count, epochs=20)\n",
    "\n",
    "similar_word = ft_mode.wb.most_similar('엘리스는')\n",
    "print(similar_word)\n",
    "new_vector = ft_model.wv['좋아한다고']\n",
    "print(new_vector)\n",
    "```"
   ]
  },
  {
   "cell_type": "code",
   "execution_count": 1,
   "id": "639a7b16",
   "metadata": {},
   "outputs": [],
   "source": [
    "from gensim.models import FastText\n",
    "import pandas as pd"
   ]
  },
  {
   "cell_type": "code",
   "execution_count": null,
   "id": "36a6f218",
   "metadata": {},
   "outputs": [],
   "source": [
    "def load_data(filepath):\n",
    "    data = pd.read_csv(filepath, delimiter=';', header=None, names=['sentence','emotion'])\n",
    "    data = data['sentence']\n",
    "\n",
    "    gensim_input = []\n",
    "    for text in data:\n",
    "        gensim_input.append(text.rstrip().split())\n",
    "\n",
    "    return gensim_input\n",
    "\n",
    "input_data = load_data(\"emotions_train.txt\")\n",
    "\n",
    "ft_model = FastText(min_count=10, window=3, vector_size=200)\n",
    "ft_model.build_vocab(input_data)\n",
    "ft_model.train(input_data, total_examples=ft_model.corpus_count, epochs=10)\n",
    "\n",
    "\n",
    "# day와 유사한 단어 10개\n",
    "similar_day = ft_mode.wb.most_similar('day')\n",
    "print(similar_day)\n",
    "\n",
    "# night와 유사한 단어 10개\n",
    "similar_night = "
   ]
  }
 ],
 "metadata": {
  "kernelspec": {
   "display_name": "Python 3 (ipykernel)",
   "language": "python",
   "name": "python3"
  },
  "language_info": {
   "codemirror_mode": {
    "name": "ipython",
    "version": 3
   },
   "file_extension": ".py",
   "mimetype": "text/x-python",
   "name": "python",
   "nbconvert_exporter": "python",
   "pygments_lexer": "ipython3",
   "version": "3.9.5"
  }
 },
 "nbformat": 4,
 "nbformat_minor": 5
}
