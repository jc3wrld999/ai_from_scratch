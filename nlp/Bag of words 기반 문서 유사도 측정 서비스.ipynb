{
 "cells": [
  {
   "cell_type": "markdown",
   "id": "154c091c",
   "metadata": {},
   "source": [
    "앞서 학습한 TF-IDF 기반 Bag of words 모델을 사용하여 주어진 문서의 유사도를 코사인 유사도를 사용하여 계산하겠습니다."
   ]
  },
  {
   "cell_type": "code",
   "execution_count": 3,
   "id": "53af2288",
   "metadata": {},
   "outputs": [
    {
     "name": "stdout",
     "output_type": "stream",
     "text": [
      "[[0.00936629]]\n",
      "[[0.]]\n"
     ]
    }
   ],
   "source": [
    "# 경고문을 제거합니다.\n",
    "import warnings\n",
    "warnings.filterwarnings(action='ignore')\n",
    "\n",
    "import pickle\n",
    "from sklearn.metrics.pairwise import cosine_similarity\n",
    "\n",
    "sent1 = [\"I first saw this movie when I was a little kid and fell in love with it at once.\"]\n",
    "sent2 = [\"Despite having 6 different directors, this fantasy hangs together remarkably well.\"]\n",
    "\n",
    "with open('bow_models.pkl', 'rb') as f:\n",
    "    '''\n",
    "    TfidfVectorizer()객체와 문서 벡터는 bow_models.pkl에 저장되어 있습니다.\n",
    "    vectorizer, X = pickle.load(f)의 형태로 불러올 수 있습니다.\n",
    "    '''\n",
    "    vectorizer, X = pickle.load(f)\n",
    "    \n",
    "\n",
    "# sent1, sent2 문장을 vectorizer 객체의 transform() 함수를 이용해 변수 vec1, vec2에 저장합니다.\n",
    "vec1 = vectorizer.transform(sent1)\n",
    "vec2 = vectorizer.transform(sent2)\n",
    "\n",
    "#  vec1과 vec2의 코사인 유사도를 변수 sim1에 저장합니다.\n",
    "sim1 = cosine_similarity(vec1, vec2)\n",
    "# 두 벡터의 코사인 유사도를 확인해봅니다.\n",
    "print(sim1)\n",
    "# vec1과 행렬 X의 첫 번째 문서 벡터 간 코사인 유사도를 변수 sim2에 저장합니다.\n",
    "sim2 = cosine_similarity(vec1, X[0])\n",
    "# X의 첫 번째 문서와 vec1의 코사인 유사도를 확인해봅니다.\n",
    "print(sim2)"
   ]
  }
 ],
 "metadata": {
  "kernelspec": {
   "display_name": "Python 3 (ipykernel)",
   "language": "python",
   "name": "python3"
  },
  "language_info": {
   "codemirror_mode": {
    "name": "ipython",
    "version": 3
   },
   "file_extension": ".py",
   "mimetype": "text/x-python",
   "name": "python",
   "nbconvert_exporter": "python",
   "pygments_lexer": "ipython3",
   "version": "3.9.5"
  }
 },
 "nbformat": 4,
 "nbformat_minor": 5
}
