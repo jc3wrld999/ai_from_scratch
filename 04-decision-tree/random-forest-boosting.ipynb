{
 "cells": [
  {
   "cell_type": "markdown",
   "id": "d1a37de3",
   "metadata": {},
   "source": [
    "## 랜덤 포레스트\n",
    "- 의사결정트리 + Bagging 알고리즘\n",
    "- 부트스트랩 데이터를 생성할 때 변수들도 임의의 샘플링을 진행함\n",
    "- 여러개의 나무를 사용해 숲을 생성"
   ]
  }
 ],
 "metadata": {
  "kernelspec": {
   "display_name": "Python 3 (ipykernel)",
   "language": "python",
   "name": "python3"
  },
  "language_info": {
   "codemirror_mode": {
    "name": "ipython",
    "version": 3
   },
   "file_extension": ".py",
   "mimetype": "text/x-python",
   "name": "python",
   "nbconvert_exporter": "python",
   "pygments_lexer": "ipython3",
   "version": "3.9.5"
  }
 },
 "nbformat": 4,
 "nbformat_minor": 5
}
