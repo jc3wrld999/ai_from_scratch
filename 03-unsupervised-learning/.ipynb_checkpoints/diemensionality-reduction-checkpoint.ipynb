{
 "cells": [
  {
   "cell_type": "markdown",
   "id": "8cf11e80",
   "metadata": {},
   "source": [
    "## 차원축소\n",
    "- 차원의 저주\n",
    "    - 차원이 높을 수록 적은 데이터로만 차원을 표현한 경우 과적합 문제가 발생할 수 있음\n",
    "- 차원의 저주는 데이터가 고차원일수록 더욱 자주 발생합니다.\n",
    "- 차원 축소를 통해 모델의 학습 속도와 성능을 향상시킬 수 있습니다.\n",
    "- 고차원의 데이터를 시각화하는데도 사용할 수 있습니다.\n",
    "- 차원 축소 알고리즘\n",
    "    - 주성분 분석\n",
    "    - t-SNE"
   ]
  }
 ],
 "metadata": {
  "kernelspec": {
   "display_name": "Python 3 (ipykernel)",
   "language": "python",
   "name": "python3"
  },
  "language_info": {
   "codemirror_mode": {
    "name": "ipython",
    "version": 3
   },
   "file_extension": ".py",
   "mimetype": "text/x-python",
   "name": "python",
   "nbconvert_exporter": "python",
   "pygments_lexer": "ipython3",
   "version": "3.9.5"
  }
 },
 "nbformat": 4,
 "nbformat_minor": 5
}
