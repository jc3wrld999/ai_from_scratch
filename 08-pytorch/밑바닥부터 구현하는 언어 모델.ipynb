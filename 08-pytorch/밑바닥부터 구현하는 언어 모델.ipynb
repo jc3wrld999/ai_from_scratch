{
 "cells": [
  {
   "cell_type": "code",
   "execution_count": 1,
   "id": "120752b1",
   "metadata": {},
   "outputs": [
    {
     "data": {
      "text/html": [
       "\n",
       "<style>\n",
       "    /* Turns off some styling */\n",
       "    progress {\n",
       "        /* gets rid of default border in Firefox and Opera. */\n",
       "        border: none;\n",
       "        /* Needs to be in here for Safari polyfill so background images work as expected. */\n",
       "        background-size: auto;\n",
       "    }\n",
       "    progress:not([value]), progress:not([value])::-webkit-progress-bar {\n",
       "        background: repeating-linear-gradient(45deg, #7e7e7e, #7e7e7e 10px, #5c5c5c 10px, #5c5c5c 20px);\n",
       "    }\n",
       "    .progress-bar-interrupted, .progress-bar-interrupted::-webkit-progress-bar {\n",
       "        background: #F44336;\n",
       "    }\n",
       "</style>\n"
      ],
      "text/plain": [
       "<IPython.core.display.HTML object>"
      ]
     },
     "metadata": {},
     "output_type": "display_data"
    },
    {
     "data": {
      "text/html": [
       "\n",
       "    <div>\n",
       "      <progress value='32768' class='' max='30252' style='width:300px; height:20px; vertical-align: middle;'></progress>\n",
       "      108.32% [32768/30252 00:00&lt;00:00]\n",
       "    </div>\n",
       "    "
      ],
      "text/plain": [
       "<IPython.core.display.HTML object>"
      ]
     },
     "metadata": {},
     "output_type": "display_data"
    }
   ],
   "source": [
    "# 데이터셋을 다운로드하고 추출\n",
    "from fastai.text.all import *\n",
    "path = untar_data(URLs.HUMAN_NUMBERS)"
   ]
  },
  {
   "cell_type": "code",
   "execution_count": 2,
   "id": "6c51c1cb",
   "metadata": {},
   "outputs": [
    {
     "data": {
      "text/plain": [
       "(#2) [Path('C:/Users/csjty/.fastai/data/human_numbers/train.txt'),Path('C:/Users/csjty/.fastai/data/human_numbers/valid.txt')]"
      ]
     },
     "execution_count": 2,
     "metadata": {},
     "output_type": "execute_result"
    }
   ],
   "source": [
    "path.ls()"
   ]
  },
  {
   "cell_type": "code",
   "execution_count": 4,
   "id": "712599d0",
   "metadata": {},
   "outputs": [
    {
     "data": {
      "text/plain": [
       "(#9998) ['one \\n','two \\n','three \\n','four \\n','five \\n','six \\n','seven \\n','eight \\n','nine \\n','ten \\n'...]"
      ]
     },
     "execution_count": 4,
     "metadata": {},
     "output_type": "execute_result"
    }
   ],
   "source": [
    "# 합습용/검증용 파일을 열고 합친다.\n",
    "lines = L()\n",
    "with open(path/'train.txt') as f:lines += L(*f.readlines())\n",
    "with open(path/'valid.txt') as f:lines += L(*f.readlines())    \n",
    "lines"
   ]
  },
  {
   "cell_type": "code",
   "execution_count": 6,
   "id": "0047a2c0",
   "metadata": {},
   "outputs": [
    {
     "data": {
      "text/plain": [
       "'one . two . three . four . five . six . seven . eight . nine . ten . eleven . twelve . thirteen . fo'"
      ]
     },
     "execution_count": 6,
     "metadata": {},
     "output_type": "execute_result"
    }
   ],
   "source": [
    "# 마침표를 구분자로 한 숫자에서 다음 숫자로 넘어가는 부분을 구분\n",
    "text = ' . '.join([l.strip() for l in lines])\n",
    "text[:100]"
   ]
  },
  {
   "cell_type": "code",
   "execution_count": 7,
   "id": "ed90bcb8",
   "metadata": {},
   "outputs": [
    {
     "data": {
      "text/plain": [
       "['one', '.', 'two', '.', 'three', '.', 'four', '.', 'five', '.']"
      ]
     },
     "execution_count": 7,
     "metadata": {},
     "output_type": "execute_result"
    }
   ],
   "source": [
    "# 공백을 기준으로 데이터셋을 토큰화한다.\n",
    "tokens = text.split(' ')\n",
    "tokens[:10]"
   ]
  },
  {
   "cell_type": "code",
   "execution_count": 8,
   "id": "ff3b2c23",
   "metadata": {},
   "outputs": [
    {
     "data": {
      "text/plain": [
       "(#30) ['one','.','two','three','four','five','six','seven','eight','nine'...]"
      ]
     },
     "execution_count": 8,
     "metadata": {},
     "output_type": "execute_result"
    }
   ],
   "source": [
    "# 수치화하려면 모든 고유 토큰(vocab)의 목록을 만들어야함\n",
    "vocab = L(*tokens).unique()\n",
    "vocab"
   ]
  },
  {
   "cell_type": "code",
   "execution_count": 9,
   "id": "5cc550a8",
   "metadata": {},
   "outputs": [
    {
     "data": {
      "text/plain": [
       "(#63095) [0,1,2,1,3,1,4,1,5,1...]"
      ]
     },
     "execution_count": 9,
     "metadata": {},
     "output_type": "execute_result"
    }
   ],
   "source": [
    "# vocab의 각 요소를 조회하여 토큰에 대응하는 숫자로 변환\n",
    "word2idx = {w:i for i, w in enumerate(vocab)}\n",
    "nums = L(word2idx[i] for i in tokens)\n",
    "nums"
   ]
  },
  {
   "cell_type": "code",
   "execution_count": 10,
   "id": "e00004c6",
   "metadata": {},
   "outputs": [
    {
     "data": {
      "text/plain": [
       "(#21031) [(['one', '.', 'two'], '.'),(['.', 'three', '.'], 'four'),(['four', '.', 'five'], '.'),(['.', 'six', '.'], 'seven'),(['seven', '.', 'eight'], '.'),(['.', 'nine', '.'], 'ten'),(['ten', '.', 'eleven'], '.'),(['.', 'twelve', '.'], 'thirteen'),(['thirteen', '.', 'fourteen'], '.'),(['.', 'fifteen', '.'], 'sixteen')...]"
      ]
     },
     "execution_count": 10,
     "metadata": {},
     "output_type": "execute_result"
    }
   ],
   "source": [
    "# 이 데이터셋을 신경망에서 사용할 수 있는 형태로 바꾸자\n",
    "# 이전 세 단어를 기반으로 다음 단어를 예측하도록 지정하는 방법\n",
    "# 연속적인 세 단어로 이루어진 리스트를 독립변수로 그 뒤에 등장하는 단어를 종속변수로 구성한 연속적인 리스트를 만든다.\n",
    "L((tokens[i:i+3], tokens[i+3]) for i in range(0, len(tokens)-4, 3))"
   ]
  },
  {
   "cell_type": "code",
   "execution_count": 11,
   "id": "2ae2ff1d",
   "metadata": {},
   "outputs": [
    {
     "data": {
      "text/plain": [
       "(#21031) [(tensor([0, 1, 2]), 1),(tensor([1, 3, 1]), 4),(tensor([4, 1, 5]), 1),(tensor([1, 6, 1]), 7),(tensor([7, 1, 8]), 1),(tensor([1, 9, 1]), 10),(tensor([10,  1, 11]), 1),(tensor([ 1, 12,  1]), 13),(tensor([13,  1, 14]), 1),(tensor([ 1, 15,  1]), 16)...]"
      ]
     },
     "execution_count": 11,
     "metadata": {},
     "output_type": "execute_result"
    }
   ],
   "source": [
    "# 모델이 실제로 사용할 수 있는 수치화된 텐서로 바꾼다.\n",
    "seqs = L((tensor(nums[i:i+3]), nums[i+3]) for i in range(0, len(nums)-4, 3))\n",
    "seqs"
   ]
  },
  {
   "cell_type": "code",
   "execution_count": 13,
   "id": "89e6484c",
   "metadata": {},
   "outputs": [],
   "source": [
    "# DataLoader 클래스를 사용하면 데이터에 쉽게 배치 단위로 접근할 수 있다. 지금은 시퀀스를 임의로 분할한다.\n",
    "bs = 64\n",
    "cut = int(len(seqs) * 0.8)\n",
    "dls = DataLoaders.from_dsets(seqs[:cut], seqs[cut:], bs=64, shuffle=False)"
   ]
  },
  {
   "cell_type": "code",
   "execution_count": null,
   "id": "31c1bfe6",
   "metadata": {},
   "outputs": [],
   "source": [
    "# 이제 세단어를 입력해서 다음 단어를 예측하는 신경망 구조를 만들 수 있다. 이때 예측은 vocab에 담긴 각 단어에 대한 확률이다.\n",
    "# 전형적인 선형 계층 세 개로 구성된 신경망을 사용해보자. 단 두가지를 수정할 것이다.\n",
    "\n",
    "# 첫번째 선형계측은 첫번째 단어의 임베딩만을 두번째 선형계층은 첫번째와 두번째 단어이 임베딩을 세번째 선형계층은 첫번째, 두번째, 세번째 단어의 임베딩을 모두 활성으로 사용하도록 한다.\n",
    "# 이 작업의 핵심 효과는 모든 단어가 그 앞에 오는 단어들의 문맥적인 정보에 기반해 해석된다는 점이다.\n",
    "\n",
    "# 세 계층 각각이 같은 가중치 행렬을 사용하도록 수정한다. 한 단어가 이전 단어의 활성에 영향을 미치는 방식은 단어의 위치에 따라 바뀌어서는 안된다.\n",
    "# 즉 데이터가 계측을 통해 이동함에 따라 활성값은 변경되지만 계층간의 "
   ]
  },
  {
   "cell_type": "code",
   "execution_count": 14,
   "id": "93cd3d45",
   "metadata": {},
   "outputs": [],
   "source": [
    "class LMModel1(Module):\n",
    "    def __init__(self, vocab_sz, n_hidden):\n",
    "        self.i_h = nn.Embedding(vocab_sz, n_hidden) # 임베딩 계층 (입력을 은닉 계층으로 보냄)\n",
    "        self.h_h = nn.Linear(n_hidden, n_hidden) # 선형계층: 다음 단어의 활성을 생성 (은닉을 다음 은닉 계층으로 보냄)\n",
    "        self.h_o = nn.Linear(n_hidden, vocab_sz) # 선형계층: 네번째 단어를 예측하는 최종 선형 계층 (은닉을 출력 계층으로 보냄)\n",
    "    def forward(self, x):\n",
    "        h = F.relu(self.h_h(self.i_h(x[:, 0])))\n",
    "        h = h + self.i_h(x[:, 1])\n",
    "        h = F.relu(self.h_h(h))\n",
    "        h = h + self.i_h(x[:, 2])\n",
    "        h = F.relu(self.h_h(h))\n",
    "        return self.h_o(h)"
   ]
  },
  {
   "cell_type": "code",
   "execution_count": 16,
   "id": "e95bfe3a",
   "metadata": {},
   "outputs": [
    {
     "data": {
      "text/html": [
       "\n",
       "<style>\n",
       "    /* Turns off some styling */\n",
       "    progress {\n",
       "        /* gets rid of default border in Firefox and Opera. */\n",
       "        border: none;\n",
       "        /* Needs to be in here for Safari polyfill so background images work as expected. */\n",
       "        background-size: auto;\n",
       "    }\n",
       "    progress:not([value]), progress:not([value])::-webkit-progress-bar {\n",
       "        background: repeating-linear-gradient(45deg, #7e7e7e, #7e7e7e 10px, #5c5c5c 10px, #5c5c5c 20px);\n",
       "    }\n",
       "    .progress-bar-interrupted, .progress-bar-interrupted::-webkit-progress-bar {\n",
       "        background: #F44336;\n",
       "    }\n",
       "</style>\n"
      ],
      "text/plain": [
       "<IPython.core.display.HTML object>"
      ]
     },
     "metadata": {},
     "output_type": "display_data"
    },
    {
     "data": {
      "text/html": [
       "<table border=\"1\" class=\"dataframe\">\n",
       "  <thead>\n",
       "    <tr style=\"text-align: left;\">\n",
       "      <th>epoch</th>\n",
       "      <th>train_loss</th>\n",
       "      <th>valid_loss</th>\n",
       "      <th>accuracy</th>\n",
       "      <th>time</th>\n",
       "    </tr>\n",
       "  </thead>\n",
       "  <tbody>\n",
       "    <tr>\n",
       "      <td>0</td>\n",
       "      <td>1.856449</td>\n",
       "      <td>1.986673</td>\n",
       "      <td>0.464464</td>\n",
       "      <td>00:02</td>\n",
       "    </tr>\n",
       "    <tr>\n",
       "      <td>1</td>\n",
       "      <td>1.381384</td>\n",
       "      <td>1.756919</td>\n",
       "      <td>0.473734</td>\n",
       "      <td>00:02</td>\n",
       "    </tr>\n",
       "    <tr>\n",
       "      <td>2</td>\n",
       "      <td>1.415422</td>\n",
       "      <td>1.641688</td>\n",
       "      <td>0.493701</td>\n",
       "      <td>00:02</td>\n",
       "    </tr>\n",
       "    <tr>\n",
       "      <td>3</td>\n",
       "      <td>1.371177</td>\n",
       "      <td>1.654577</td>\n",
       "      <td>0.479201</td>\n",
       "      <td>00:02</td>\n",
       "    </tr>\n",
       "  </tbody>\n",
       "</table>"
      ],
      "text/plain": [
       "<IPython.core.display.HTML object>"
      ]
     },
     "metadata": {},
     "output_type": "display_data"
    }
   ],
   "source": [
    "learn = Learner(dls, LMModel1(len(vocab), 64), loss_func=F.cross_entropy, metrics=accuracy)\n",
    "learn.fit_one_cycle(4, 1e-3)"
   ]
  },
  {
   "cell_type": "code",
   "execution_count": null,
   "id": "fea2562f",
   "metadata": {},
   "outputs": [],
   "source": [
    "n, counts = 0, torch.zeros(len(vocab))\n",
    "for x, y in dls.valid:\n",
    "    n += y.shape[0]\n",
    "    for i in range_of(vocab): counts[i] += (y==i).long().sum()\n",
    "idx = torch.argmax(counts)\n"
   ]
  }
 ],
 "metadata": {
  "kernelspec": {
   "display_name": "Python 3 (ipykernel)",
   "language": "python",
   "name": "python3"
  },
  "language_info": {
   "codemirror_mode": {
    "name": "ipython",
    "version": 3
   },
   "file_extension": ".py",
   "mimetype": "text/x-python",
   "name": "python",
   "nbconvert_exporter": "python",
   "pygments_lexer": "ipython3",
   "version": "3.9.5"
  }
 },
 "nbformat": 4,
 "nbformat_minor": 5
}
